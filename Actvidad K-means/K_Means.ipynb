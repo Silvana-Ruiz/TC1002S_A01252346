{
 "cells": [
  {
   "cell_type": "code",
   "execution_count": 4,
   "metadata": {
    "id": "H9JttK7LDSOc"
   },
   "outputs": [],
   "source": [
    "import matplotlib.pylab as plt\n",
    "from sklearn import metrics\n",
    "import numpy as np\n",
    "import pandas as pd\n",
    "import seaborn as sns"
   ]
  },
  {
   "cell_type": "code",
   "execution_count": 5,
   "metadata": {
    "colab": {
     "base_uri": "https://localhost:8080/",
     "height": 424
    },
    "id": "OxRQVuGXDuQw",
    "outputId": "0995f1b5-a897-4f9e-f571-e98fa09f043f"
   },
   "outputs": [
    {
     "data": {
      "text/html": [
       "<div>\n",
       "<style scoped>\n",
       "    .dataframe tbody tr th:only-of-type {\n",
       "        vertical-align: middle;\n",
       "    }\n",
       "\n",
       "    .dataframe tbody tr th {\n",
       "        vertical-align: top;\n",
       "    }\n",
       "\n",
       "    .dataframe thead th {\n",
       "        text-align: right;\n",
       "    }\n",
       "</style>\n",
       "<table border=\"1\" class=\"dataframe\">\n",
       "  <thead>\n",
       "    <tr style=\"text-align: right;\">\n",
       "      <th></th>\n",
       "      <th>Age (years)</th>\n",
       "      <th>Height (cm)</th>\n",
       "      <th>FEV (litres)</th>\n",
       "      <th>Sex</th>\n",
       "      <th>Smoker</th>\n",
       "    </tr>\n",
       "  </thead>\n",
       "  <tbody>\n",
       "    <tr>\n",
       "      <th>0</th>\n",
       "      <td>9</td>\n",
       "      <td>145</td>\n",
       "      <td>1.708</td>\n",
       "      <td>female</td>\n",
       "      <td>non</td>\n",
       "    </tr>\n",
       "    <tr>\n",
       "      <th>1</th>\n",
       "      <td>8</td>\n",
       "      <td>171</td>\n",
       "      <td>1.724</td>\n",
       "      <td>female</td>\n",
       "      <td>non</td>\n",
       "    </tr>\n",
       "    <tr>\n",
       "      <th>2</th>\n",
       "      <td>7</td>\n",
       "      <td>138</td>\n",
       "      <td>1.720</td>\n",
       "      <td>female</td>\n",
       "      <td>non</td>\n",
       "    </tr>\n",
       "    <tr>\n",
       "      <th>3</th>\n",
       "      <td>9</td>\n",
       "      <td>135</td>\n",
       "      <td>1.558</td>\n",
       "      <td>male</td>\n",
       "      <td>non</td>\n",
       "    </tr>\n",
       "    <tr>\n",
       "      <th>4</th>\n",
       "      <td>9</td>\n",
       "      <td>145</td>\n",
       "      <td>1.895</td>\n",
       "      <td>male</td>\n",
       "      <td>non</td>\n",
       "    </tr>\n",
       "    <tr>\n",
       "      <th>...</th>\n",
       "      <td>...</td>\n",
       "      <td>...</td>\n",
       "      <td>...</td>\n",
       "      <td>...</td>\n",
       "      <td>...</td>\n",
       "    </tr>\n",
       "    <tr>\n",
       "      <th>649</th>\n",
       "      <td>15</td>\n",
       "      <td>152</td>\n",
       "      <td>2.278</td>\n",
       "      <td>female</td>\n",
       "      <td>smoker</td>\n",
       "    </tr>\n",
       "    <tr>\n",
       "      <th>650</th>\n",
       "      <td>16</td>\n",
       "      <td>183</td>\n",
       "      <td>4.872</td>\n",
       "      <td>male</td>\n",
       "      <td>smoker</td>\n",
       "    </tr>\n",
       "    <tr>\n",
       "      <th>651</th>\n",
       "      <td>16</td>\n",
       "      <td>170</td>\n",
       "      <td>4.270</td>\n",
       "      <td>male</td>\n",
       "      <td>smoker</td>\n",
       "    </tr>\n",
       "    <tr>\n",
       "      <th>652</th>\n",
       "      <td>15</td>\n",
       "      <td>173</td>\n",
       "      <td>3.727</td>\n",
       "      <td>male</td>\n",
       "      <td>smoker</td>\n",
       "    </tr>\n",
       "    <tr>\n",
       "      <th>653</th>\n",
       "      <td>16</td>\n",
       "      <td>160</td>\n",
       "      <td>2.795</td>\n",
       "      <td>female</td>\n",
       "      <td>smoker</td>\n",
       "    </tr>\n",
       "  </tbody>\n",
       "</table>\n",
       "<p>654 rows × 5 columns</p>\n",
       "</div>"
      ],
      "text/plain": [
       "     Age (years)  Height (cm)  FEV (litres)     Sex  Smoker\n",
       "0              9          145         1.708  female     non\n",
       "1              8          171         1.724  female     non\n",
       "2              7          138         1.720  female     non\n",
       "3              9          135         1.558    male     non\n",
       "4              9          145         1.895    male     non\n",
       "..           ...          ...           ...     ...     ...\n",
       "649           15          152         2.278  female  smoker\n",
       "650           16          183         4.872    male  smoker\n",
       "651           16          170         4.270    male  smoker\n",
       "652           15          173         3.727    male  smoker\n",
       "653           16          160         2.795  female  smoker\n",
       "\n",
       "[654 rows x 5 columns]"
      ]
     },
     "execution_count": 5,
     "metadata": {},
     "output_type": "execute_result"
    }
   ],
   "source": [
    "data = pd.read_csv('Child smokers.csv')\n",
    "data"
   ]
  },
  {
   "cell_type": "code",
   "execution_count": 6,
   "metadata": {
    "colab": {
     "base_uri": "https://localhost:8080/"
    },
    "id": "nW8Ve0SJJn9w",
    "outputId": "81809371-1141-4527-a391-7d635c439d05"
   },
   "outputs": [
    {
     "data": {
      "text/plain": [
       "(654, 5)"
      ]
     },
     "execution_count": 6,
     "metadata": {},
     "output_type": "execute_result"
    }
   ],
   "source": [
    "data.shape"
   ]
  },
  {
   "cell_type": "code",
   "execution_count": 7,
   "metadata": {
    "colab": {
     "base_uri": "https://localhost:8080/"
    },
    "id": "05mkuCn9JslV",
    "outputId": "e46fb419-c4ba-4897-aff0-1e6fb5e303ad"
   },
   "outputs": [
    {
     "data": {
      "text/plain": [
       "Index(['Age (years)', 'Height (cm)', 'FEV (litres)', 'Sex', 'Smoker'], dtype='object')"
      ]
     },
     "execution_count": 7,
     "metadata": {},
     "output_type": "execute_result"
    }
   ],
   "source": [
    "data.columns"
   ]
  },
  {
   "cell_type": "code",
   "execution_count": 8,
   "metadata": {
    "colab": {
     "base_uri": "https://localhost:8080/"
    },
    "id": "2iGEVXH1Ju5G",
    "outputId": "9556f89f-2957-4213-87e3-2d86f3037680"
   },
   "outputs": [
    {
     "data": {
      "text/plain": [
       "Age (years)       int64\n",
       "Height (cm)       int64\n",
       "FEV (litres)    float64\n",
       "Sex              object\n",
       "Smoker           object\n",
       "dtype: object"
      ]
     },
     "execution_count": 8,
     "metadata": {},
     "output_type": "execute_result"
    }
   ],
   "source": [
    "data.dtypes"
   ]
  },
  {
   "cell_type": "code",
   "execution_count": 9,
   "metadata": {
    "colab": {
     "base_uri": "https://localhost:8080/",
     "height": 300
    },
    "id": "kBIDQtUIJyUf",
    "outputId": "954bbefb-30c7-42ce-ab43-e8fcc0137ed5"
   },
   "outputs": [
    {
     "data": {
      "text/html": [
       "<div>\n",
       "<style scoped>\n",
       "    .dataframe tbody tr th:only-of-type {\n",
       "        vertical-align: middle;\n",
       "    }\n",
       "\n",
       "    .dataframe tbody tr th {\n",
       "        vertical-align: top;\n",
       "    }\n",
       "\n",
       "    .dataframe thead th {\n",
       "        text-align: right;\n",
       "    }\n",
       "</style>\n",
       "<table border=\"1\" class=\"dataframe\">\n",
       "  <thead>\n",
       "    <tr style=\"text-align: right;\">\n",
       "      <th></th>\n",
       "      <th>Age (years)</th>\n",
       "      <th>Height (cm)</th>\n",
       "      <th>FEV (litres)</th>\n",
       "    </tr>\n",
       "  </thead>\n",
       "  <tbody>\n",
       "    <tr>\n",
       "      <th>count</th>\n",
       "      <td>654.000000</td>\n",
       "      <td>654.000000</td>\n",
       "      <td>654.000000</td>\n",
       "    </tr>\n",
       "    <tr>\n",
       "      <th>mean</th>\n",
       "      <td>9.931193</td>\n",
       "      <td>155.298165</td>\n",
       "      <td>2.636780</td>\n",
       "    </tr>\n",
       "    <tr>\n",
       "      <th>std</th>\n",
       "      <td>2.953935</td>\n",
       "      <td>14.471647</td>\n",
       "      <td>0.867059</td>\n",
       "    </tr>\n",
       "    <tr>\n",
       "      <th>min</th>\n",
       "      <td>3.000000</td>\n",
       "      <td>117.000000</td>\n",
       "      <td>0.791000</td>\n",
       "    </tr>\n",
       "    <tr>\n",
       "      <th>25%</th>\n",
       "      <td>8.000000</td>\n",
       "      <td>145.000000</td>\n",
       "      <td>1.981000</td>\n",
       "    </tr>\n",
       "    <tr>\n",
       "      <th>50%</th>\n",
       "      <td>10.000000</td>\n",
       "      <td>156.000000</td>\n",
       "      <td>2.547500</td>\n",
       "    </tr>\n",
       "    <tr>\n",
       "      <th>75%</th>\n",
       "      <td>12.000000</td>\n",
       "      <td>166.000000</td>\n",
       "      <td>3.118500</td>\n",
       "    </tr>\n",
       "    <tr>\n",
       "      <th>max</th>\n",
       "      <td>19.000000</td>\n",
       "      <td>188.000000</td>\n",
       "      <td>5.793000</td>\n",
       "    </tr>\n",
       "  </tbody>\n",
       "</table>\n",
       "</div>"
      ],
      "text/plain": [
       "       Age (years)  Height (cm)  FEV (litres)\n",
       "count   654.000000   654.000000    654.000000\n",
       "mean      9.931193   155.298165      2.636780\n",
       "std       2.953935    14.471647      0.867059\n",
       "min       3.000000   117.000000      0.791000\n",
       "25%       8.000000   145.000000      1.981000\n",
       "50%      10.000000   156.000000      2.547500\n",
       "75%      12.000000   166.000000      3.118500\n",
       "max      19.000000   188.000000      5.793000"
      ]
     },
     "execution_count": 9,
     "metadata": {},
     "output_type": "execute_result"
    }
   ],
   "source": [
    "data.describe()"
   ]
  },
  {
   "cell_type": "code",
   "execution_count": 39,
   "metadata": {
    "colab": {
     "base_uri": "https://localhost:8080/",
     "height": 424
    },
    "id": "li7BA7AnKPea",
    "outputId": "01e1a843-d003-4be8-c55c-bbc470be3cee"
   },
   "outputs": [
    {
     "data": {
      "text/html": [
       "<div>\n",
       "<style scoped>\n",
       "    .dataframe tbody tr th:only-of-type {\n",
       "        vertical-align: middle;\n",
       "    }\n",
       "\n",
       "    .dataframe tbody tr th {\n",
       "        vertical-align: top;\n",
       "    }\n",
       "\n",
       "    .dataframe thead th {\n",
       "        text-align: right;\n",
       "    }\n",
       "</style>\n",
       "<table border=\"1\" class=\"dataframe\">\n",
       "  <thead>\n",
       "    <tr style=\"text-align: right;\">\n",
       "      <th></th>\n",
       "      <th>Age (years)</th>\n",
       "      <th>Height (cm)</th>\n",
       "      <th>FEV (litres)</th>\n",
       "      <th>Sex</th>\n",
       "      <th>Smoker</th>\n",
       "    </tr>\n",
       "  </thead>\n",
       "  <tbody>\n",
       "    <tr>\n",
       "      <th>0</th>\n",
       "      <td>9</td>\n",
       "      <td>145</td>\n",
       "      <td>1.708</td>\n",
       "      <td>0</td>\n",
       "      <td>0</td>\n",
       "    </tr>\n",
       "    <tr>\n",
       "      <th>1</th>\n",
       "      <td>8</td>\n",
       "      <td>171</td>\n",
       "      <td>1.724</td>\n",
       "      <td>0</td>\n",
       "      <td>0</td>\n",
       "    </tr>\n",
       "    <tr>\n",
       "      <th>2</th>\n",
       "      <td>7</td>\n",
       "      <td>138</td>\n",
       "      <td>1.720</td>\n",
       "      <td>0</td>\n",
       "      <td>0</td>\n",
       "    </tr>\n",
       "    <tr>\n",
       "      <th>3</th>\n",
       "      <td>9</td>\n",
       "      <td>135</td>\n",
       "      <td>1.558</td>\n",
       "      <td>1</td>\n",
       "      <td>0</td>\n",
       "    </tr>\n",
       "    <tr>\n",
       "      <th>4</th>\n",
       "      <td>9</td>\n",
       "      <td>145</td>\n",
       "      <td>1.895</td>\n",
       "      <td>1</td>\n",
       "      <td>0</td>\n",
       "    </tr>\n",
       "    <tr>\n",
       "      <th>...</th>\n",
       "      <td>...</td>\n",
       "      <td>...</td>\n",
       "      <td>...</td>\n",
       "      <td>...</td>\n",
       "      <td>...</td>\n",
       "    </tr>\n",
       "    <tr>\n",
       "      <th>649</th>\n",
       "      <td>15</td>\n",
       "      <td>152</td>\n",
       "      <td>2.278</td>\n",
       "      <td>0</td>\n",
       "      <td>1</td>\n",
       "    </tr>\n",
       "    <tr>\n",
       "      <th>650</th>\n",
       "      <td>16</td>\n",
       "      <td>183</td>\n",
       "      <td>4.872</td>\n",
       "      <td>1</td>\n",
       "      <td>1</td>\n",
       "    </tr>\n",
       "    <tr>\n",
       "      <th>651</th>\n",
       "      <td>16</td>\n",
       "      <td>170</td>\n",
       "      <td>4.270</td>\n",
       "      <td>1</td>\n",
       "      <td>1</td>\n",
       "    </tr>\n",
       "    <tr>\n",
       "      <th>652</th>\n",
       "      <td>15</td>\n",
       "      <td>173</td>\n",
       "      <td>3.727</td>\n",
       "      <td>1</td>\n",
       "      <td>1</td>\n",
       "    </tr>\n",
       "    <tr>\n",
       "      <th>653</th>\n",
       "      <td>16</td>\n",
       "      <td>160</td>\n",
       "      <td>2.795</td>\n",
       "      <td>0</td>\n",
       "      <td>1</td>\n",
       "    </tr>\n",
       "  </tbody>\n",
       "</table>\n",
       "<p>654 rows × 5 columns</p>\n",
       "</div>"
      ],
      "text/plain": [
       "     Age (years)  Height (cm)  FEV (litres)  Sex  Smoker\n",
       "0              9          145         1.708    0       0\n",
       "1              8          171         1.724    0       0\n",
       "2              7          138         1.720    0       0\n",
       "3              9          135         1.558    1       0\n",
       "4              9          145         1.895    1       0\n",
       "..           ...          ...           ...  ...     ...\n",
       "649           15          152         2.278    0       1\n",
       "650           16          183         4.872    1       1\n",
       "651           16          170         4.270    1       1\n",
       "652           15          173         3.727    1       1\n",
       "653           16          160         2.795    0       1\n",
       "\n",
       "[654 rows x 5 columns]"
      ]
     },
     "execution_count": 39,
     "metadata": {},
     "output_type": "execute_result"
    }
   ],
   "source": [
    "data['Sex'] = data['Sex'].astype('category').cat.codes\n",
    "data['Smoker'] = data['Smoker'].astype('category').cat.codes\n",
    "data"
   ]
  },
  {
   "cell_type": "code",
   "execution_count": 40,
   "metadata": {
    "colab": {
     "base_uri": "https://localhost:8080/",
     "height": 458
    },
    "id": "b3CdaatqF-Xo",
    "outputId": "39715233-5eee-468a-e049-4d38e9bd0180"
   },
   "outputs": [
    {
     "data": {
      "text/html": [
       "<div>\n",
       "<style scoped>\n",
       "    .dataframe tbody tr th:only-of-type {\n",
       "        vertical-align: middle;\n",
       "    }\n",
       "\n",
       "    .dataframe tbody tr th {\n",
       "        vertical-align: top;\n",
       "    }\n",
       "\n",
       "    .dataframe thead th {\n",
       "        text-align: right;\n",
       "    }\n",
       "</style>\n",
       "<table border=\"1\" class=\"dataframe\">\n",
       "  <thead>\n",
       "    <tr style=\"text-align: right;\">\n",
       "      <th></th>\n",
       "      <th>Age (years)</th>\n",
       "      <th>Height (cm)</th>\n",
       "      <th>FEV (litres)</th>\n",
       "      <th>Sex</th>\n",
       "      <th>Smoker</th>\n",
       "    </tr>\n",
       "  </thead>\n",
       "  <tbody>\n",
       "    <tr>\n",
       "      <th>0</th>\n",
       "      <td>0.3750</td>\n",
       "      <td>0.394366</td>\n",
       "      <td>0.183327</td>\n",
       "      <td>0.0</td>\n",
       "      <td>0.0</td>\n",
       "    </tr>\n",
       "    <tr>\n",
       "      <th>1</th>\n",
       "      <td>0.3125</td>\n",
       "      <td>0.760563</td>\n",
       "      <td>0.186525</td>\n",
       "      <td>0.0</td>\n",
       "      <td>0.0</td>\n",
       "    </tr>\n",
       "    <tr>\n",
       "      <th>2</th>\n",
       "      <td>0.2500</td>\n",
       "      <td>0.295775</td>\n",
       "      <td>0.185726</td>\n",
       "      <td>0.0</td>\n",
       "      <td>0.0</td>\n",
       "    </tr>\n",
       "    <tr>\n",
       "      <th>3</th>\n",
       "      <td>0.3750</td>\n",
       "      <td>0.253521</td>\n",
       "      <td>0.153339</td>\n",
       "      <td>1.0</td>\n",
       "      <td>0.0</td>\n",
       "    </tr>\n",
       "    <tr>\n",
       "      <th>4</th>\n",
       "      <td>0.3750</td>\n",
       "      <td>0.394366</td>\n",
       "      <td>0.220712</td>\n",
       "      <td>1.0</td>\n",
       "      <td>0.0</td>\n",
       "    </tr>\n",
       "    <tr>\n",
       "      <th>...</th>\n",
       "      <td>...</td>\n",
       "      <td>...</td>\n",
       "      <td>...</td>\n",
       "      <td>...</td>\n",
       "      <td>...</td>\n",
       "    </tr>\n",
       "    <tr>\n",
       "      <th>649</th>\n",
       "      <td>0.7500</td>\n",
       "      <td>0.492958</td>\n",
       "      <td>0.297281</td>\n",
       "      <td>0.0</td>\n",
       "      <td>1.0</td>\n",
       "    </tr>\n",
       "    <tr>\n",
       "      <th>650</th>\n",
       "      <td>0.8125</td>\n",
       "      <td>0.929577</td>\n",
       "      <td>0.815874</td>\n",
       "      <td>1.0</td>\n",
       "      <td>1.0</td>\n",
       "    </tr>\n",
       "    <tr>\n",
       "      <th>651</th>\n",
       "      <td>0.8125</td>\n",
       "      <td>0.746479</td>\n",
       "      <td>0.695522</td>\n",
       "      <td>1.0</td>\n",
       "      <td>1.0</td>\n",
       "    </tr>\n",
       "    <tr>\n",
       "      <th>652</th>\n",
       "      <td>0.7500</td>\n",
       "      <td>0.788732</td>\n",
       "      <td>0.586965</td>\n",
       "      <td>1.0</td>\n",
       "      <td>1.0</td>\n",
       "    </tr>\n",
       "    <tr>\n",
       "      <th>653</th>\n",
       "      <td>0.8125</td>\n",
       "      <td>0.605634</td>\n",
       "      <td>0.400640</td>\n",
       "      <td>0.0</td>\n",
       "      <td>1.0</td>\n",
       "    </tr>\n",
       "  </tbody>\n",
       "</table>\n",
       "<p>654 rows × 5 columns</p>\n",
       "</div>"
      ],
      "text/plain": [
       "     Age (years)  Height (cm)  FEV (litres)  Sex  Smoker\n",
       "0         0.3750     0.394366      0.183327  0.0     0.0\n",
       "1         0.3125     0.760563      0.186525  0.0     0.0\n",
       "2         0.2500     0.295775      0.185726  0.0     0.0\n",
       "3         0.3750     0.253521      0.153339  1.0     0.0\n",
       "4         0.3750     0.394366      0.220712  1.0     0.0\n",
       "..           ...          ...           ...  ...     ...\n",
       "649       0.7500     0.492958      0.297281  0.0     1.0\n",
       "650       0.8125     0.929577      0.815874  1.0     1.0\n",
       "651       0.8125     0.746479      0.695522  1.0     1.0\n",
       "652       0.7500     0.788732      0.586965  1.0     1.0\n",
       "653       0.8125     0.605634      0.400640  0.0     1.0\n",
       "\n",
       "[654 rows x 5 columns]"
      ]
     },
     "execution_count": 40,
     "metadata": {},
     "output_type": "execute_result"
    }
   ],
   "source": [
    "from sklearn.preprocessing import MinMaxScaler\n",
    "min_max = MinMaxScaler()\n",
    "data1 = data\n",
    "data2 = min_max.fit_transform(data1.values)\n",
    "data2 = pd.DataFrame(data2, columns=data1.columns)\n",
    "data2"
   ]
  },
  {
   "cell_type": "code",
   "execution_count": 41,
   "metadata": {},
   "outputs": [
    {
     "data": {
      "text/plain": [
       "array([[4.17943548e-01, 5.53066788e-01, 3.88520721e-01, 1.00000000e+00,\n",
       "        2.77555756e-16],\n",
       "       [3.97849462e-01, 4.84072896e-01, 3.17515288e-01, 1.11022302e-15,\n",
       "        2.63677968e-16],\n",
       "       [6.57692308e-01, 7.11809317e-01, 4.96973518e-01, 4.00000000e-01,\n",
       "        1.00000000e+00]])"
      ]
     },
     "execution_count": 41,
     "metadata": {},
     "output_type": "execute_result"
    }
   ],
   "source": [
    "from sklearn.cluster import KMeans\n",
    "clu = KMeans(n_clusters=3)\n",
    "clu.fit(data2)\n",
    "clu.cluster_centers_"
   ]
  }
 ],
 "metadata": {
  "colab": {
   "collapsed_sections": [],
   "name": "K-Means.ipynb",
   "provenance": []
  },
  "kernelspec": {
   "display_name": "Python 3",
   "language": "python",
   "name": "python3"
  },
  "language_info": {
   "codemirror_mode": {
    "name": "ipython",
    "version": 3
   },
   "file_extension": ".py",
   "mimetype": "text/x-python",
   "name": "python",
   "nbconvert_exporter": "python",
   "pygments_lexer": "ipython3",
   "version": "3.8.5"
  }
 },
 "nbformat": 4,
 "nbformat_minor": 1
}
