{
 "cells": [
  {
   "cell_type": "code",
   "execution_count": 59,
   "metadata": {
    "id": "dZ4EATnolN6p"
   },
   "outputs": [],
   "source": [
    "from matplotlib import pyplot as plt\n",
    "import pandas as pd\n",
    "import seaborn as sns\n",
    "import numpy as np"
   ]
  },
  {
   "cell_type": "code",
   "execution_count": 60,
   "metadata": {
    "colab": {
     "base_uri": "https://localhost:8080/",
     "height": 413
    },
    "id": "YEeTj47jlN6w",
    "outputId": "6a42491d-c0a3-4a30-b55d-58356a5772d4"
   },
   "outputs": [
    {
     "data": {
      "text/html": [
       "<div>\n",
       "<style scoped>\n",
       "    .dataframe tbody tr th:only-of-type {\n",
       "        vertical-align: middle;\n",
       "    }\n",
       "\n",
       "    .dataframe tbody tr th {\n",
       "        vertical-align: top;\n",
       "    }\n",
       "\n",
       "    .dataframe thead th {\n",
       "        text-align: right;\n",
       "    }\n",
       "</style>\n",
       "<table border=\"1\" class=\"dataframe\">\n",
       "  <thead>\n",
       "    <tr style=\"text-align: right;\">\n",
       "      <th></th>\n",
       "      <th>Age (years)</th>\n",
       "      <th>Height (cm)</th>\n",
       "      <th>FEV (litres)</th>\n",
       "      <th>Sex</th>\n",
       "      <th>Smoker</th>\n",
       "    </tr>\n",
       "  </thead>\n",
       "  <tbody>\n",
       "    <tr>\n",
       "      <th>0</th>\n",
       "      <td>9</td>\n",
       "      <td>145</td>\n",
       "      <td>1.708</td>\n",
       "      <td>female</td>\n",
       "      <td>non</td>\n",
       "    </tr>\n",
       "    <tr>\n",
       "      <th>1</th>\n",
       "      <td>8</td>\n",
       "      <td>171</td>\n",
       "      <td>1.724</td>\n",
       "      <td>female</td>\n",
       "      <td>non</td>\n",
       "    </tr>\n",
       "    <tr>\n",
       "      <th>2</th>\n",
       "      <td>7</td>\n",
       "      <td>138</td>\n",
       "      <td>1.720</td>\n",
       "      <td>female</td>\n",
       "      <td>non</td>\n",
       "    </tr>\n",
       "    <tr>\n",
       "      <th>3</th>\n",
       "      <td>9</td>\n",
       "      <td>135</td>\n",
       "      <td>1.558</td>\n",
       "      <td>male</td>\n",
       "      <td>non</td>\n",
       "    </tr>\n",
       "    <tr>\n",
       "      <th>4</th>\n",
       "      <td>9</td>\n",
       "      <td>145</td>\n",
       "      <td>1.895</td>\n",
       "      <td>male</td>\n",
       "      <td>non</td>\n",
       "    </tr>\n",
       "    <tr>\n",
       "      <th>...</th>\n",
       "      <td>...</td>\n",
       "      <td>...</td>\n",
       "      <td>...</td>\n",
       "      <td>...</td>\n",
       "      <td>...</td>\n",
       "    </tr>\n",
       "    <tr>\n",
       "      <th>649</th>\n",
       "      <td>15</td>\n",
       "      <td>152</td>\n",
       "      <td>2.278</td>\n",
       "      <td>female</td>\n",
       "      <td>smoker</td>\n",
       "    </tr>\n",
       "    <tr>\n",
       "      <th>650</th>\n",
       "      <td>16</td>\n",
       "      <td>183</td>\n",
       "      <td>4.872</td>\n",
       "      <td>male</td>\n",
       "      <td>smoker</td>\n",
       "    </tr>\n",
       "    <tr>\n",
       "      <th>651</th>\n",
       "      <td>16</td>\n",
       "      <td>170</td>\n",
       "      <td>4.270</td>\n",
       "      <td>male</td>\n",
       "      <td>smoker</td>\n",
       "    </tr>\n",
       "    <tr>\n",
       "      <th>652</th>\n",
       "      <td>15</td>\n",
       "      <td>173</td>\n",
       "      <td>3.727</td>\n",
       "      <td>male</td>\n",
       "      <td>smoker</td>\n",
       "    </tr>\n",
       "    <tr>\n",
       "      <th>653</th>\n",
       "      <td>16</td>\n",
       "      <td>160</td>\n",
       "      <td>2.795</td>\n",
       "      <td>female</td>\n",
       "      <td>smoker</td>\n",
       "    </tr>\n",
       "  </tbody>\n",
       "</table>\n",
       "<p>654 rows × 5 columns</p>\n",
       "</div>"
      ],
      "text/plain": [
       "     Age (years)  Height (cm)  FEV (litres)     Sex  Smoker\n",
       "0              9          145         1.708  female     non\n",
       "1              8          171         1.724  female     non\n",
       "2              7          138         1.720  female     non\n",
       "3              9          135         1.558    male     non\n",
       "4              9          145         1.895    male     non\n",
       "..           ...          ...           ...     ...     ...\n",
       "649           15          152         2.278  female  smoker\n",
       "650           16          183         4.872    male  smoker\n",
       "651           16          170         4.270    male  smoker\n",
       "652           15          173         3.727    male  smoker\n",
       "653           16          160         2.795  female  smoker\n",
       "\n",
       "[654 rows x 5 columns]"
      ]
     },
     "execution_count": 60,
     "metadata": {},
     "output_type": "execute_result"
    }
   ],
   "source": [
    "data = pd.read_csv('Child smokers.csv', na_values = ':')\n",
    "data"
   ]
  },
  {
   "cell_type": "code",
   "execution_count": 61,
   "metadata": {
    "id": "KB2pvdZflN6z",
    "outputId": "70d6cafd-f469-4845-b3dd-66650d1a5e56"
   },
   "outputs": [
    {
     "data": {
      "text/html": [
       "<div>\n",
       "<style scoped>\n",
       "    .dataframe tbody tr th:only-of-type {\n",
       "        vertical-align: middle;\n",
       "    }\n",
       "\n",
       "    .dataframe tbody tr th {\n",
       "        vertical-align: top;\n",
       "    }\n",
       "\n",
       "    .dataframe thead th {\n",
       "        text-align: right;\n",
       "    }\n",
       "</style>\n",
       "<table border=\"1\" class=\"dataframe\">\n",
       "  <thead>\n",
       "    <tr style=\"text-align: right;\">\n",
       "      <th></th>\n",
       "      <th>Age (years)</th>\n",
       "      <th>Height (cm)</th>\n",
       "      <th>FEV (litres)</th>\n",
       "    </tr>\n",
       "  </thead>\n",
       "  <tbody>\n",
       "    <tr>\n",
       "      <th>count</th>\n",
       "      <td>654.000000</td>\n",
       "      <td>654.000000</td>\n",
       "      <td>654.000000</td>\n",
       "    </tr>\n",
       "    <tr>\n",
       "      <th>mean</th>\n",
       "      <td>9.931193</td>\n",
       "      <td>155.298165</td>\n",
       "      <td>2.636780</td>\n",
       "    </tr>\n",
       "    <tr>\n",
       "      <th>std</th>\n",
       "      <td>2.953935</td>\n",
       "      <td>14.471647</td>\n",
       "      <td>0.867059</td>\n",
       "    </tr>\n",
       "    <tr>\n",
       "      <th>min</th>\n",
       "      <td>3.000000</td>\n",
       "      <td>117.000000</td>\n",
       "      <td>0.791000</td>\n",
       "    </tr>\n",
       "    <tr>\n",
       "      <th>25%</th>\n",
       "      <td>8.000000</td>\n",
       "      <td>145.000000</td>\n",
       "      <td>1.981000</td>\n",
       "    </tr>\n",
       "    <tr>\n",
       "      <th>50%</th>\n",
       "      <td>10.000000</td>\n",
       "      <td>156.000000</td>\n",
       "      <td>2.547500</td>\n",
       "    </tr>\n",
       "    <tr>\n",
       "      <th>75%</th>\n",
       "      <td>12.000000</td>\n",
       "      <td>166.000000</td>\n",
       "      <td>3.118500</td>\n",
       "    </tr>\n",
       "    <tr>\n",
       "      <th>max</th>\n",
       "      <td>19.000000</td>\n",
       "      <td>188.000000</td>\n",
       "      <td>5.793000</td>\n",
       "    </tr>\n",
       "  </tbody>\n",
       "</table>\n",
       "</div>"
      ],
      "text/plain": [
       "       Age (years)  Height (cm)  FEV (litres)\n",
       "count   654.000000   654.000000    654.000000\n",
       "mean      9.931193   155.298165      2.636780\n",
       "std       2.953935    14.471647      0.867059\n",
       "min       3.000000   117.000000      0.791000\n",
       "25%       8.000000   145.000000      1.981000\n",
       "50%      10.000000   156.000000      2.547500\n",
       "75%      12.000000   166.000000      3.118500\n",
       "max      19.000000   188.000000      5.793000"
      ]
     },
     "execution_count": 61,
     "metadata": {},
     "output_type": "execute_result"
    }
   ],
   "source": [
    "data.describe()"
   ]
  },
  {
   "cell_type": "code",
   "execution_count": 62,
   "metadata": {},
   "outputs": [
    {
     "data": {
      "text/plain": [
       "Age (years)       int64\n",
       "Height (cm)       int64\n",
       "FEV (litres)    float64\n",
       "Sex              object\n",
       "Smoker           object\n",
       "dtype: object"
      ]
     },
     "execution_count": 62,
     "metadata": {},
     "output_type": "execute_result"
    }
   ],
   "source": [
    "data.dtypes"
   ]
  },
  {
   "cell_type": "code",
   "execution_count": 63,
   "metadata": {},
   "outputs": [
    {
     "name": "stdout",
     "output_type": "stream",
     "text": [
      "El rango de Age es de 3  a 19\n",
      "El rango de Height es de 117  a 188\n",
      "El rango de FEV es de 0.7909999999999999  a 5.792999999999999\n"
     ]
    }
   ],
   "source": [
    "print(\"El rango de Age es de\",data['Age (years)'].min(),\" a\",data['Age (years)'].max())\n",
    "print(\"El rango de Height es de\",data['Height (cm)'].min(),\" a\",data['Height (cm)'].max())\n",
    "print(\"El rango de FEV es de\",data['FEV (litres)'].min(),\" a\",data['FEV (litres)'].max())"
   ]
  },
  {
   "cell_type": "code",
   "execution_count": 64,
   "metadata": {
    "id": "YWhjp0F8lN60",
    "outputId": "450eef15-05ea-49fe-f8a7-7f429e7d008c"
   },
   "outputs": [
    {
     "data": {
      "text/plain": [
       "Index(['Age (years)', 'Height (cm)', 'FEV (litres)', 'Sex', 'Smoker'], dtype='object')"
      ]
     },
     "execution_count": 64,
     "metadata": {},
     "output_type": "execute_result"
    }
   ],
   "source": [
    "data.columns"
   ]
  },
  {
   "cell_type": "code",
   "execution_count": 65,
   "metadata": {
    "id": "DM2cpi5PlN60",
    "outputId": "1bf76df0-1e64-492d-b59e-a14bc660aaf9"
   },
   "outputs": [
    {
     "data": {
      "text/plain": [
       "RangeIndex(start=0, stop=654, step=1)"
      ]
     },
     "execution_count": 65,
     "metadata": {},
     "output_type": "execute_result"
    }
   ],
   "source": [
    "data.index"
   ]
  },
  {
   "cell_type": "code",
   "execution_count": 66,
   "metadata": {
    "id": "C5-Xb1BJlN61",
    "outputId": "e4ed8ca6-4baa-4f5c-e505-387b0f023698"
   },
   "outputs": [
    {
     "data": {
      "text/plain": [
       "array([[9, 145, 1.7080000000000002, 'female', 'non'],\n",
       "       [8, 171, 1.724, 'female', 'non'],\n",
       "       [7, 138, 1.72, 'female', 'non'],\n",
       "       ...,\n",
       "       [16, 170, 4.27, 'male', 'smoker'],\n",
       "       [15, 173, 3.727, 'male', 'smoker'],\n",
       "       [16, 160, 2.795, 'female', 'smoker']], dtype=object)"
      ]
     },
     "execution_count": 66,
     "metadata": {},
     "output_type": "execute_result"
    }
   ],
   "source": [
    "data.values"
   ]
  },
  {
   "cell_type": "code",
   "execution_count": 67,
   "metadata": {
    "id": "CHQvhbAslN61",
    "outputId": "41302597-45b6-4615-8ca4-605be2968e5f"
   },
   "outputs": [
    {
     "data": {
      "text/plain": [
       "0       9\n",
       "1       8\n",
       "2       7\n",
       "3       9\n",
       "4       9\n",
       "       ..\n",
       "649    15\n",
       "650    16\n",
       "651    16\n",
       "652    15\n",
       "653    16\n",
       "Name: Age (years), Length: 654, dtype: int64"
      ]
     },
     "execution_count": 67,
     "metadata": {},
     "output_type": "execute_result"
    }
   ],
   "source": [
    "data['Age (years)']"
   ]
  },
  {
   "cell_type": "code",
   "execution_count": 68,
   "metadata": {
    "id": "V1I9s-nmlN62",
    "outputId": "028fa55f-a5c6-47e4-e3cc-ffaec899a174"
   },
   "outputs": [
    {
     "data": {
      "text/html": [
       "<div>\n",
       "<style scoped>\n",
       "    .dataframe tbody tr th:only-of-type {\n",
       "        vertical-align: middle;\n",
       "    }\n",
       "\n",
       "    .dataframe tbody tr th {\n",
       "        vertical-align: top;\n",
       "    }\n",
       "\n",
       "    .dataframe thead th {\n",
       "        text-align: right;\n",
       "    }\n",
       "</style>\n",
       "<table border=\"1\" class=\"dataframe\">\n",
       "  <thead>\n",
       "    <tr style=\"text-align: right;\">\n",
       "      <th></th>\n",
       "      <th>Height (cm)</th>\n",
       "      <th>FEV (litres)</th>\n",
       "    </tr>\n",
       "  </thead>\n",
       "  <tbody>\n",
       "    <tr>\n",
       "      <th>0</th>\n",
       "      <td>145</td>\n",
       "      <td>1.708</td>\n",
       "    </tr>\n",
       "    <tr>\n",
       "      <th>1</th>\n",
       "      <td>171</td>\n",
       "      <td>1.724</td>\n",
       "    </tr>\n",
       "    <tr>\n",
       "      <th>2</th>\n",
       "      <td>138</td>\n",
       "      <td>1.720</td>\n",
       "    </tr>\n",
       "    <tr>\n",
       "      <th>3</th>\n",
       "      <td>135</td>\n",
       "      <td>1.558</td>\n",
       "    </tr>\n",
       "    <tr>\n",
       "      <th>4</th>\n",
       "      <td>145</td>\n",
       "      <td>1.895</td>\n",
       "    </tr>\n",
       "    <tr>\n",
       "      <th>...</th>\n",
       "      <td>...</td>\n",
       "      <td>...</td>\n",
       "    </tr>\n",
       "    <tr>\n",
       "      <th>649</th>\n",
       "      <td>152</td>\n",
       "      <td>2.278</td>\n",
       "    </tr>\n",
       "    <tr>\n",
       "      <th>650</th>\n",
       "      <td>183</td>\n",
       "      <td>4.872</td>\n",
       "    </tr>\n",
       "    <tr>\n",
       "      <th>651</th>\n",
       "      <td>170</td>\n",
       "      <td>4.270</td>\n",
       "    </tr>\n",
       "    <tr>\n",
       "      <th>652</th>\n",
       "      <td>173</td>\n",
       "      <td>3.727</td>\n",
       "    </tr>\n",
       "    <tr>\n",
       "      <th>653</th>\n",
       "      <td>160</td>\n",
       "      <td>2.795</td>\n",
       "    </tr>\n",
       "  </tbody>\n",
       "</table>\n",
       "<p>654 rows × 2 columns</p>\n",
       "</div>"
      ],
      "text/plain": [
       "     Height (cm)  FEV (litres)\n",
       "0            145         1.708\n",
       "1            171         1.724\n",
       "2            138         1.720\n",
       "3            135         1.558\n",
       "4            145         1.895\n",
       "..           ...           ...\n",
       "649          152         2.278\n",
       "650          183         4.872\n",
       "651          170         4.270\n",
       "652          173         3.727\n",
       "653          160         2.795\n",
       "\n",
       "[654 rows x 2 columns]"
      ]
     },
     "execution_count": 68,
     "metadata": {},
     "output_type": "execute_result"
    }
   ],
   "source": [
    "data[['Height (cm)', 'FEV (litres)']]"
   ]
  },
  {
   "cell_type": "code",
   "execution_count": 69,
   "metadata": {
    "id": "u7LYjC7ylN62",
    "outputId": "3de6b2a4-7a84-429f-eeb2-b2985cf95461"
   },
   "outputs": [
    {
     "data": {
      "text/html": [
       "<div>\n",
       "<style scoped>\n",
       "    .dataframe tbody tr th:only-of-type {\n",
       "        vertical-align: middle;\n",
       "    }\n",
       "\n",
       "    .dataframe tbody tr th {\n",
       "        vertical-align: top;\n",
       "    }\n",
       "\n",
       "    .dataframe thead th {\n",
       "        text-align: right;\n",
       "    }\n",
       "</style>\n",
       "<table border=\"1\" class=\"dataframe\">\n",
       "  <thead>\n",
       "    <tr style=\"text-align: right;\">\n",
       "      <th></th>\n",
       "      <th>Age (years)</th>\n",
       "      <th>Height (cm)</th>\n",
       "      <th>FEV (litres)</th>\n",
       "      <th>Sex</th>\n",
       "      <th>Smoker</th>\n",
       "    </tr>\n",
       "  </thead>\n",
       "  <tbody>\n",
       "    <tr>\n",
       "      <th>100</th>\n",
       "      <td>8</td>\n",
       "      <td>132</td>\n",
       "      <td>1.292</td>\n",
       "      <td>female</td>\n",
       "      <td>non</td>\n",
       "    </tr>\n",
       "    <tr>\n",
       "      <th>101</th>\n",
       "      <td>7</td>\n",
       "      <td>137</td>\n",
       "      <td>1.649</td>\n",
       "      <td>male</td>\n",
       "      <td>non</td>\n",
       "    </tr>\n",
       "    <tr>\n",
       "      <th>102</th>\n",
       "      <td>9</td>\n",
       "      <td>160</td>\n",
       "      <td>2.588</td>\n",
       "      <td>male</td>\n",
       "      <td>non</td>\n",
       "    </tr>\n",
       "    <tr>\n",
       "      <th>103</th>\n",
       "      <td>4</td>\n",
       "      <td>119</td>\n",
       "      <td>0.796</td>\n",
       "      <td>male</td>\n",
       "      <td>non</td>\n",
       "    </tr>\n",
       "    <tr>\n",
       "      <th>104</th>\n",
       "      <td>9</td>\n",
       "      <td>154</td>\n",
       "      <td>2.574</td>\n",
       "      <td>female</td>\n",
       "      <td>non</td>\n",
       "    </tr>\n",
       "    <tr>\n",
       "      <th>105</th>\n",
       "      <td>6</td>\n",
       "      <td>142</td>\n",
       "      <td>1.979</td>\n",
       "      <td>male</td>\n",
       "      <td>non</td>\n",
       "    </tr>\n",
       "    <tr>\n",
       "      <th>106</th>\n",
       "      <td>8</td>\n",
       "      <td>149</td>\n",
       "      <td>2.354</td>\n",
       "      <td>male</td>\n",
       "      <td>non</td>\n",
       "    </tr>\n",
       "    <tr>\n",
       "      <th>107</th>\n",
       "      <td>6</td>\n",
       "      <td>140</td>\n",
       "      <td>1.718</td>\n",
       "      <td>male</td>\n",
       "      <td>non</td>\n",
       "    </tr>\n",
       "    <tr>\n",
       "      <th>108</th>\n",
       "      <td>7</td>\n",
       "      <td>149</td>\n",
       "      <td>1.742</td>\n",
       "      <td>female</td>\n",
       "      <td>non</td>\n",
       "    </tr>\n",
       "    <tr>\n",
       "      <th>109</th>\n",
       "      <td>7</td>\n",
       "      <td>130</td>\n",
       "      <td>1.603</td>\n",
       "      <td>female</td>\n",
       "      <td>non</td>\n",
       "    </tr>\n",
       "    <tr>\n",
       "      <th>110</th>\n",
       "      <td>8</td>\n",
       "      <td>151</td>\n",
       "      <td>2.639</td>\n",
       "      <td>female</td>\n",
       "      <td>non</td>\n",
       "    </tr>\n",
       "    <tr>\n",
       "      <th>111</th>\n",
       "      <td>7</td>\n",
       "      <td>137</td>\n",
       "      <td>1.829</td>\n",
       "      <td>female</td>\n",
       "      <td>non</td>\n",
       "    </tr>\n",
       "    <tr>\n",
       "      <th>112</th>\n",
       "      <td>7</td>\n",
       "      <td>147</td>\n",
       "      <td>2.084</td>\n",
       "      <td>male</td>\n",
       "      <td>non</td>\n",
       "    </tr>\n",
       "    <tr>\n",
       "      <th>113</th>\n",
       "      <td>7</td>\n",
       "      <td>147</td>\n",
       "      <td>2.220</td>\n",
       "      <td>male</td>\n",
       "      <td>non</td>\n",
       "    </tr>\n",
       "    <tr>\n",
       "      <th>114</th>\n",
       "      <td>7</td>\n",
       "      <td>133</td>\n",
       "      <td>1.473</td>\n",
       "      <td>female</td>\n",
       "      <td>non</td>\n",
       "    </tr>\n",
       "  </tbody>\n",
       "</table>\n",
       "</div>"
      ],
      "text/plain": [
       "     Age (years)  Height (cm)  FEV (litres)     Sex Smoker\n",
       "100            8          132         1.292  female    non\n",
       "101            7          137         1.649    male    non\n",
       "102            9          160         2.588    male    non\n",
       "103            4          119         0.796    male    non\n",
       "104            9          154         2.574  female    non\n",
       "105            6          142         1.979    male    non\n",
       "106            8          149         2.354    male    non\n",
       "107            6          140         1.718    male    non\n",
       "108            7          149         1.742  female    non\n",
       "109            7          130         1.603  female    non\n",
       "110            8          151         2.639  female    non\n",
       "111            7          137         1.829  female    non\n",
       "112            7          147         2.084    male    non\n",
       "113            7          147         2.220    male    non\n",
       "114            7          133         1.473  female    non"
      ]
     },
     "execution_count": 69,
     "metadata": {},
     "output_type": "execute_result"
    }
   ],
   "source": [
    "data[100:115]"
   ]
  },
  {
   "cell_type": "code",
   "execution_count": 70,
   "metadata": {
    "id": "Hz5eeaw5lN63",
    "outputId": "ce9c1f39-5e60-4a3d-ca6a-df5cffad5a12"
   },
   "outputs": [
    {
     "data": {
      "text/html": [
       "<div>\n",
       "<style scoped>\n",
       "    .dataframe tbody tr th:only-of-type {\n",
       "        vertical-align: middle;\n",
       "    }\n",
       "\n",
       "    .dataframe tbody tr th {\n",
       "        vertical-align: top;\n",
       "    }\n",
       "\n",
       "    .dataframe thead th {\n",
       "        text-align: right;\n",
       "    }\n",
       "</style>\n",
       "<table border=\"1\" class=\"dataframe\">\n",
       "  <thead>\n",
       "    <tr style=\"text-align: right;\">\n",
       "      <th></th>\n",
       "      <th>Age (years)</th>\n",
       "      <th>FEV (litres)</th>\n",
       "    </tr>\n",
       "  </thead>\n",
       "  <tbody>\n",
       "    <tr>\n",
       "      <th>200</th>\n",
       "      <td>7</td>\n",
       "      <td>1.690</td>\n",
       "    </tr>\n",
       "    <tr>\n",
       "      <th>201</th>\n",
       "      <td>9</td>\n",
       "      <td>2.973</td>\n",
       "    </tr>\n",
       "    <tr>\n",
       "      <th>202</th>\n",
       "      <td>8</td>\n",
       "      <td>2.145</td>\n",
       "    </tr>\n",
       "    <tr>\n",
       "      <th>203</th>\n",
       "      <td>5</td>\n",
       "      <td>1.971</td>\n",
       "    </tr>\n",
       "    <tr>\n",
       "      <th>204</th>\n",
       "      <td>7</td>\n",
       "      <td>2.095</td>\n",
       "    </tr>\n",
       "  </tbody>\n",
       "</table>\n",
       "</div>"
      ],
      "text/plain": [
       "     Age (years)  FEV (litres)\n",
       "200            7         1.690\n",
       "201            9         2.973\n",
       "202            8         2.145\n",
       "203            5         1.971\n",
       "204            7         2.095"
      ]
     },
     "execution_count": 70,
     "metadata": {},
     "output_type": "execute_result"
    }
   ],
   "source": [
    "data.iloc[200:205, [0,2]]"
   ]
  },
  {
   "cell_type": "code",
   "execution_count": 71,
   "metadata": {
    "id": "twNkXkWTlN63",
    "outputId": "ab9e64b7-3e0a-4b3d-deb2-b834209a81f5"
   },
   "outputs": [
    {
     "data": {
      "text/html": [
       "<div>\n",
       "<style scoped>\n",
       "    .dataframe tbody tr th:only-of-type {\n",
       "        vertical-align: middle;\n",
       "    }\n",
       "\n",
       "    .dataframe tbody tr th {\n",
       "        vertical-align: top;\n",
       "    }\n",
       "\n",
       "    .dataframe thead th {\n",
       "        text-align: right;\n",
       "    }\n",
       "</style>\n",
       "<table border=\"1\" class=\"dataframe\">\n",
       "  <thead>\n",
       "    <tr style=\"text-align: right;\">\n",
       "      <th></th>\n",
       "      <th>Height (cm)</th>\n",
       "      <th>FEV (litres)</th>\n",
       "    </tr>\n",
       "  </thead>\n",
       "  <tbody>\n",
       "    <tr>\n",
       "      <th>200</th>\n",
       "      <td>137</td>\n",
       "      <td>1.690</td>\n",
       "    </tr>\n",
       "    <tr>\n",
       "      <th>201</th>\n",
       "      <td>151</td>\n",
       "      <td>2.973</td>\n",
       "    </tr>\n",
       "    <tr>\n",
       "      <th>202</th>\n",
       "      <td>151</td>\n",
       "      <td>2.145</td>\n",
       "    </tr>\n",
       "    <tr>\n",
       "      <th>203</th>\n",
       "      <td>147</td>\n",
       "      <td>1.971</td>\n",
       "    </tr>\n",
       "    <tr>\n",
       "      <th>204</th>\n",
       "      <td>145</td>\n",
       "      <td>2.095</td>\n",
       "    </tr>\n",
       "    <tr>\n",
       "      <th>205</th>\n",
       "      <td>140</td>\n",
       "      <td>1.697</td>\n",
       "    </tr>\n",
       "  </tbody>\n",
       "</table>\n",
       "</div>"
      ],
      "text/plain": [
       "     Height (cm)  FEV (litres)\n",
       "200          137         1.690\n",
       "201          151         2.973\n",
       "202          151         2.145\n",
       "203          147         1.971\n",
       "204          145         2.095\n",
       "205          140         1.697"
      ]
     },
     "execution_count": 71,
     "metadata": {},
     "output_type": "execute_result"
    }
   ],
   "source": [
    "data.loc[200:205, ['Height (cm)', 'FEV (litres)']]"
   ]
  },
  {
   "cell_type": "code",
   "execution_count": 72,
   "metadata": {
    "id": "NPLgRCaLlN65",
    "outputId": "4d23d455-891a-4e24-ff06-ff7beab0c9cd"
   },
   "outputs": [
    {
     "data": {
      "text/plain": [
       "10.0"
      ]
     },
     "execution_count": 72,
     "metadata": {},
     "output_type": "execute_result"
    }
   ],
   "source": [
    "data['Age (years)'].median()"
   ]
  },
  {
   "cell_type": "code",
   "execution_count": 73,
   "metadata": {
    "id": "vupRJPGalN65",
    "outputId": "6378d8ce-41b1-4332-fec8-71fe54b3cf1c"
   },
   "outputs": [
    {
     "data": {
      "text/plain": [
       "156.0"
      ]
     },
     "execution_count": 73,
     "metadata": {},
     "output_type": "execute_result"
    }
   ],
   "source": [
    "data['Height (cm)'].median()"
   ]
  },
  {
   "cell_type": "code",
   "execution_count": 74,
   "metadata": {
    "id": "tvuHQShnlN65",
    "outputId": "8ebd3b71-1163-444d-fdb3-f5aec8f83fac"
   },
   "outputs": [
    {
     "data": {
      "text/plain": [
       "2.5475"
      ]
     },
     "execution_count": 74,
     "metadata": {},
     "output_type": "execute_result"
    }
   ],
   "source": [
    "data['FEV (litres)'].median()"
   ]
  },
  {
   "cell_type": "code",
   "execution_count": 75,
   "metadata": {
    "colab": {
     "base_uri": "https://localhost:8080/",
     "height": 243
    },
    "id": "hW1p7hWwlQ1K",
    "outputId": "bd7fe33e-32ba-40df-8838-c1d9eb9a1ca1"
   },
   "outputs": [
    {
     "data": {
      "text/html": [
       "<div>\n",
       "<style scoped>\n",
       "    .dataframe tbody tr th:only-of-type {\n",
       "        vertical-align: middle;\n",
       "    }\n",
       "\n",
       "    .dataframe tbody tr th {\n",
       "        vertical-align: top;\n",
       "    }\n",
       "\n",
       "    .dataframe thead th {\n",
       "        text-align: right;\n",
       "    }\n",
       "</style>\n",
       "<table border=\"1\" class=\"dataframe\">\n",
       "  <thead>\n",
       "    <tr style=\"text-align: right;\">\n",
       "      <th></th>\n",
       "      <th>Age (years)</th>\n",
       "      <th>Height (cm)</th>\n",
       "      <th>FEV (litres)</th>\n",
       "      <th>Sex</th>\n",
       "      <th>Smoker</th>\n",
       "    </tr>\n",
       "  </thead>\n",
       "  <tbody>\n",
       "    <tr>\n",
       "      <th>0</th>\n",
       "      <td>9</td>\n",
       "      <td>145</td>\n",
       "      <td>1.708</td>\n",
       "      <td>0</td>\n",
       "      <td>0</td>\n",
       "    </tr>\n",
       "    <tr>\n",
       "      <th>1</th>\n",
       "      <td>8</td>\n",
       "      <td>171</td>\n",
       "      <td>1.724</td>\n",
       "      <td>0</td>\n",
       "      <td>0</td>\n",
       "    </tr>\n",
       "    <tr>\n",
       "      <th>2</th>\n",
       "      <td>7</td>\n",
       "      <td>138</td>\n",
       "      <td>1.720</td>\n",
       "      <td>0</td>\n",
       "      <td>0</td>\n",
       "    </tr>\n",
       "    <tr>\n",
       "      <th>3</th>\n",
       "      <td>9</td>\n",
       "      <td>135</td>\n",
       "      <td>1.558</td>\n",
       "      <td>1</td>\n",
       "      <td>0</td>\n",
       "    </tr>\n",
       "    <tr>\n",
       "      <th>4</th>\n",
       "      <td>9</td>\n",
       "      <td>145</td>\n",
       "      <td>1.895</td>\n",
       "      <td>1</td>\n",
       "      <td>0</td>\n",
       "    </tr>\n",
       "    <tr>\n",
       "      <th>...</th>\n",
       "      <td>...</td>\n",
       "      <td>...</td>\n",
       "      <td>...</td>\n",
       "      <td>...</td>\n",
       "      <td>...</td>\n",
       "    </tr>\n",
       "    <tr>\n",
       "      <th>649</th>\n",
       "      <td>15</td>\n",
       "      <td>152</td>\n",
       "      <td>2.278</td>\n",
       "      <td>0</td>\n",
       "      <td>1</td>\n",
       "    </tr>\n",
       "    <tr>\n",
       "      <th>650</th>\n",
       "      <td>16</td>\n",
       "      <td>183</td>\n",
       "      <td>4.872</td>\n",
       "      <td>1</td>\n",
       "      <td>1</td>\n",
       "    </tr>\n",
       "    <tr>\n",
       "      <th>651</th>\n",
       "      <td>16</td>\n",
       "      <td>170</td>\n",
       "      <td>4.270</td>\n",
       "      <td>1</td>\n",
       "      <td>1</td>\n",
       "    </tr>\n",
       "    <tr>\n",
       "      <th>652</th>\n",
       "      <td>15</td>\n",
       "      <td>173</td>\n",
       "      <td>3.727</td>\n",
       "      <td>1</td>\n",
       "      <td>1</td>\n",
       "    </tr>\n",
       "    <tr>\n",
       "      <th>653</th>\n",
       "      <td>16</td>\n",
       "      <td>160</td>\n",
       "      <td>2.795</td>\n",
       "      <td>0</td>\n",
       "      <td>1</td>\n",
       "    </tr>\n",
       "  </tbody>\n",
       "</table>\n",
       "<p>654 rows × 5 columns</p>\n",
       "</div>"
      ],
      "text/plain": [
       "     Age (years)  Height (cm)  FEV (litres)  Sex  Smoker\n",
       "0              9          145         1.708    0       0\n",
       "1              8          171         1.724    0       0\n",
       "2              7          138         1.720    0       0\n",
       "3              9          135         1.558    1       0\n",
       "4              9          145         1.895    1       0\n",
       "..           ...          ...           ...  ...     ...\n",
       "649           15          152         2.278    0       1\n",
       "650           16          183         4.872    1       1\n",
       "651           16          170         4.270    1       1\n",
       "652           15          173         3.727    1       1\n",
       "653           16          160         2.795    0       1\n",
       "\n",
       "[654 rows x 5 columns]"
      ]
     },
     "execution_count": 75,
     "metadata": {},
     "output_type": "execute_result"
    }
   ],
   "source": [
    "data['Sex'] = data['Sex'].astype('category').cat.codes\n",
    "data['Smoker'] = data['Smoker'].astype('category').cat.codes\n",
    "\n",
    "data = pd.DataFrame(data)\n",
    "data"
   ]
  },
  {
   "cell_type": "code",
   "execution_count": 76,
   "metadata": {
    "id": "1bjurkwxmUJC"
   },
   "outputs": [
    {
     "data": {
      "text/html": [
       "<div>\n",
       "<style scoped>\n",
       "    .dataframe tbody tr th:only-of-type {\n",
       "        vertical-align: middle;\n",
       "    }\n",
       "\n",
       "    .dataframe tbody tr th {\n",
       "        vertical-align: top;\n",
       "    }\n",
       "\n",
       "    .dataframe thead th {\n",
       "        text-align: right;\n",
       "    }\n",
       "</style>\n",
       "<table border=\"1\" class=\"dataframe\">\n",
       "  <thead>\n",
       "    <tr style=\"text-align: right;\">\n",
       "      <th></th>\n",
       "      <th>Age (years)</th>\n",
       "      <th>Height (cm)</th>\n",
       "      <th>FEV (litres)</th>\n",
       "      <th>Sex</th>\n",
       "      <th>Smoker</th>\n",
       "    </tr>\n",
       "  </thead>\n",
       "  <tbody>\n",
       "    <tr>\n",
       "      <th>0</th>\n",
       "      <td>0.3750</td>\n",
       "      <td>0.394366</td>\n",
       "      <td>0.183327</td>\n",
       "      <td>0.0</td>\n",
       "      <td>0.0</td>\n",
       "    </tr>\n",
       "    <tr>\n",
       "      <th>1</th>\n",
       "      <td>0.3125</td>\n",
       "      <td>0.760563</td>\n",
       "      <td>0.186525</td>\n",
       "      <td>0.0</td>\n",
       "      <td>0.0</td>\n",
       "    </tr>\n",
       "    <tr>\n",
       "      <th>2</th>\n",
       "      <td>0.2500</td>\n",
       "      <td>0.295775</td>\n",
       "      <td>0.185726</td>\n",
       "      <td>0.0</td>\n",
       "      <td>0.0</td>\n",
       "    </tr>\n",
       "    <tr>\n",
       "      <th>3</th>\n",
       "      <td>0.3750</td>\n",
       "      <td>0.253521</td>\n",
       "      <td>0.153339</td>\n",
       "      <td>1.0</td>\n",
       "      <td>0.0</td>\n",
       "    </tr>\n",
       "    <tr>\n",
       "      <th>4</th>\n",
       "      <td>0.3750</td>\n",
       "      <td>0.394366</td>\n",
       "      <td>0.220712</td>\n",
       "      <td>1.0</td>\n",
       "      <td>0.0</td>\n",
       "    </tr>\n",
       "    <tr>\n",
       "      <th>...</th>\n",
       "      <td>...</td>\n",
       "      <td>...</td>\n",
       "      <td>...</td>\n",
       "      <td>...</td>\n",
       "      <td>...</td>\n",
       "    </tr>\n",
       "    <tr>\n",
       "      <th>649</th>\n",
       "      <td>0.7500</td>\n",
       "      <td>0.492958</td>\n",
       "      <td>0.297281</td>\n",
       "      <td>0.0</td>\n",
       "      <td>1.0</td>\n",
       "    </tr>\n",
       "    <tr>\n",
       "      <th>650</th>\n",
       "      <td>0.8125</td>\n",
       "      <td>0.929577</td>\n",
       "      <td>0.815874</td>\n",
       "      <td>1.0</td>\n",
       "      <td>1.0</td>\n",
       "    </tr>\n",
       "    <tr>\n",
       "      <th>651</th>\n",
       "      <td>0.8125</td>\n",
       "      <td>0.746479</td>\n",
       "      <td>0.695522</td>\n",
       "      <td>1.0</td>\n",
       "      <td>1.0</td>\n",
       "    </tr>\n",
       "    <tr>\n",
       "      <th>652</th>\n",
       "      <td>0.7500</td>\n",
       "      <td>0.788732</td>\n",
       "      <td>0.586965</td>\n",
       "      <td>1.0</td>\n",
       "      <td>1.0</td>\n",
       "    </tr>\n",
       "    <tr>\n",
       "      <th>653</th>\n",
       "      <td>0.8125</td>\n",
       "      <td>0.605634</td>\n",
       "      <td>0.400640</td>\n",
       "      <td>0.0</td>\n",
       "      <td>1.0</td>\n",
       "    </tr>\n",
       "  </tbody>\n",
       "</table>\n",
       "<p>654 rows × 5 columns</p>\n",
       "</div>"
      ],
      "text/plain": [
       "     Age (years)  Height (cm)  FEV (litres)  Sex  Smoker\n",
       "0         0.3750     0.394366      0.183327  0.0     0.0\n",
       "1         0.3125     0.760563      0.186525  0.0     0.0\n",
       "2         0.2500     0.295775      0.185726  0.0     0.0\n",
       "3         0.3750     0.253521      0.153339  1.0     0.0\n",
       "4         0.3750     0.394366      0.220712  1.0     0.0\n",
       "..           ...          ...           ...  ...     ...\n",
       "649       0.7500     0.492958      0.297281  0.0     1.0\n",
       "650       0.8125     0.929577      0.815874  1.0     1.0\n",
       "651       0.8125     0.746479      0.695522  1.0     1.0\n",
       "652       0.7500     0.788732      0.586965  1.0     1.0\n",
       "653       0.8125     0.605634      0.400640  0.0     1.0\n",
       "\n",
       "[654 rows x 5 columns]"
      ]
     },
     "execution_count": 76,
     "metadata": {},
     "output_type": "execute_result"
    }
   ],
   "source": [
    "from sklearn.preprocessing import MinMaxScaler\n",
    "min_max = MinMaxScaler()\n",
    "data1 = data\n",
    "data2 = min_max.fit_transform(data1.values)\n",
    "dataf = pd.DataFrame(data2, columns=data1.columns)\n",
    "dataf"
   ]
  },
  {
   "cell_type": "code",
   "execution_count": 92,
   "metadata": {},
   "outputs": [
    {
     "data": {
      "image/png": "[encoded data removed]",
      "text/plain": [
       "<Figure size 842.4x595.44 with 1 Axes>"
      ]
     },
     "metadata": {},
     "output_type": "display_data"
    }
   ],
   "source": [
    "ax = sns.scatterplot(x = \"Age (years)\", y = \"Height (cm)\", data = data,ci=False)"
   ]
  },
  {
   "cell_type": "code",
   "execution_count": 91,
   "metadata": {},
   "outputs": [
    {
     "data": {
      "image/png": "[encoded data removed]",
      "text/plain": [
       "<Figure size 842.4x595.44 with 1 Axes>"
      ]
     },
     "metadata": {},
     "output_type": "display_data"
    }
   ],
   "source": [
    "ax = sns.scatterplot(x = \"Age (years)\", y = \"FEV (litres)\", data = data,ci=False)"
   ]
  },
  {
   "cell_type": "code",
   "execution_count": 90,
   "metadata": {},
   "outputs": [
    {
     "data": {
      "image/png": "[encoded data removed]",
      "text/plain": [
       "<Figure size 842.4x595.44 with 1 Axes>"
      ]
     },
     "metadata": {},
     "output_type": "display_data"
    }
   ],
   "source": [
    "ax = sns.scatterplot(x = \"Height (cm)\", y = \"FEV (litres)\", data = data,ci=False)"
   ]
  },
  {
   "cell_type": "code",
   "execution_count": 96,
   "metadata": {},
   "outputs": [
    {
     "data": {
      "image/png": "[encoded data removed]",
      "text/plain": [
       "<Figure size 842.4x595.44 with 1 Axes>"
      ]
     },
     "metadata": {},
     "output_type": "display_data"
    }
   ],
   "source": [
    "from collections import Counter\n",
    "valores = data[\"Age (years)\"]\n",
    "histogram = Counter(min(valor//1*1,20)for valor in valores)\n",
    "plt.bar([x for x in histogram.keys()],histogram.values(),1,edgecolor = (0,0,0))\n",
    "plt.xticks([i for i in range(20)])\n",
    "plt.xlabel(\"Edad\")\n",
    "plt.ylabel(\"# de niños\")\n",
    "plt.title(\"Distribucion de Age (years)\")\n",
    "plt.show()"
   ]
  },
  {
   "cell_type": "code",
   "execution_count": 80,
   "metadata": {},
   "outputs": [
    {
     "data": {
      "image/png": "[encoded data removed]",
      "text/plain": [
       "<Figure size 842.4x595.44 with 1 Axes>"
      ]
     },
     "metadata": {},
     "output_type": "display_data"
    }
   ],
   "source": [
    "from collections import Counter\n",
    "valores = data[\"FEV (litres)\"]\n",
    "histogram = Counter(min(valor//1*1,5)for valor in valores)\n",
    "plt.bar([x for x in histogram.keys()],histogram.values(),1,edgecolor = (0,0,0))\n",
    "plt.xticks([i for i in range(6)])\n",
    "plt.xlabel(\"Quintiles\")\n",
    "plt.ylabel(\"FEV en litros\")\n",
    "plt.title(\"Distribucion de FEV (litros)\")\n",
    "plt.show()"
   ]
  },
  {
   "cell_type": "code",
   "execution_count": null,
   "metadata": {},
   "outputs": [],
   "source": [
    "from collections import Counter\n",
    "valores = data[\"Height (years)\"]\n",
    "histogram = Counter(min(valor//1*1,5)for valor in valores)\n",
    "plt.bar([x for x in histogram.keys()],histogram.values(),1,edgecolor = (0,0,0))\n",
    "plt.xticks([i for i in range(6)])\n",
    "plt.xlabel(\"Quintiles\")\n",
    "plt.ylabel(\"FEV en litros\")\n",
    "plt.title(\"Distribucion de FEV (litros)\")\n",
    "plt.show()"
   ]
  },
  {
   "cell_type": "code",
   "execution_count": null,
   "metadata": {},
   "outputs": [],
   "source": [
    "from collections import Counter\n",
    "valores = data[\"FEV (litres)\"]\n",
    "histogram = Counter(min(valor//1*1,5)for valor in valores)\n",
    "plt.bar([x for x in histogram.keys()],histogram.values(),1,edgecolor = (0,0,0))\n",
    "plt.xticks([i for i in range(6)])\n",
    "plt.xlabel(\"Quintiles\")\n",
    "plt.ylabel(\"FEV en litros\")\n",
    "plt.title(\"Distribucion de FEV (litros)\")\n",
    "plt.show()"
   ]
  },
  {
   "cell_type": "code",
   "execution_count": null,
   "metadata": {},
   "outputs": [],
   "source": [
    "from collections import Counter\n",
    "valores = data[\"FEV (litres)\"]\n",
    "histogram = Counter(min(valor//1*1,5)for valor in valores)\n",
    "plt.bar([x for x in histogram.keys()],histogram.values(),1,edgecolor = (0,0,0))\n",
    "plt.xticks([i for i in range(6)])\n",
    "plt.xlabel(\"Quintiles\")\n",
    "plt.ylabel(\"FEV en litros\")\n",
    "plt.title(\"Distribucion de FEV (litros)\")\n",
    "plt.show()"
   ]
  },
  {
   "cell_type": "code",
   "execution_count": 81,
   "metadata": {
    "id": "Y90QPd3bm-Di"
   },
   "outputs": [
    {
     "data": {
      "text/plain": [
       "<AxesSubplot:>"
      ]
     },
     "execution_count": 81,
     "metadata": {},
     "output_type": "execute_result"
    },
    {
     "data": {
      "image/png": "[encoded data removed]",
      "text/plain": [
       "<Figure size 842.4x595.44 with 2 Axes>"
      ]
     },
     "metadata": {},
     "output_type": "display_data"
    }
   ],
   "source": [
    "correlation_matrix = dataf.corr().round(2)\n",
    "sns.heatmap(data=correlation_matrix, vmin = -1,annot=True)"
   ]
  },
  {
   "cell_type": "code",
   "execution_count": 82,
   "metadata": {
    "id": "yoh3KXRTlQ1Q",
    "outputId": "d449ac13-d89b-4055-94d4-53e0ff1503f2"
   },
   "outputs": [
    {
     "data": {
      "image/png": "[encoded data removed]",
      "text/plain": [
       "<Figure size 842.4x595.44 with 1 Axes>"
      ]
     },
     "metadata": {},
     "output_type": "display_data"
    }
   ],
   "source": [
    "ax = sns.lineplot(x='Age (years)', y='Smoker', data = data)"
   ]
  },
  {
   "cell_type": "code",
   "execution_count": 83,
   "metadata": {
    "id": "bYtJFxQAnx6_"
   },
   "outputs": [
    {
     "data": {
      "image/png": "[encoded data removed]",
      "text/plain": [
       "<Figure size 842.4x595.44 with 1 Axes>"
      ]
     },
     "metadata": {},
     "output_type": "display_data"
    }
   ],
   "source": [
    "ax = sns.barplot(x = \"Age (years)\", y = \"FEV (litres)\", data = data)"
   ]
  },
  {
   "cell_type": "code",
   "execution_count": 85,
   "metadata": {
    "id": "yzfxu2nvn5tZ"
   },
   "outputs": [
    {
     "data": {
      "image/png": "[encoded data removed]",
      "text/plain": [
       "<Figure size 842.4x595.44 with 1 Axes>"
      ]
     },
     "metadata": {},
     "output_type": "display_data"
    }
   ],
   "source": [
    "ax = sns.histplot(x = \"Smoker\", y = \"FEV (litres)\", data = data)"
   ]
  },
  {
   "cell_type": "code",
   "execution_count": 86,
   "metadata": {
    "id": "69Z0MhWkn8rC"
   },
   "outputs": [
    {
     "data": {
      "image/png": "[encoded data removed]",
      "text/plain": [
       "<Figure size 842.4x595.44 with 1 Axes>"
      ]
     },
     "metadata": {},
     "output_type": "display_data"
    }
   ],
   "source": [
    "ax = sns.histplot(x = \"Smoker\", y = \"Age (years)\", data = data)"
   ]
  },
  {
   "cell_type": "code",
   "execution_count": 87,
   "metadata": {
    "id": "JLWIDhkYn_x7"
   },
   "outputs": [
    {
     "data": {
      "image/png": "[encoded data removed]",
      "text/plain": [
       "<Figure size 720x504 with 1 Axes>"
      ]
     },
     "metadata": {},
     "output_type": "display_data"
    }
   ],
   "source": [
    "datos = [dataf['Age (years)'],dataf['FEV (litres)']]\n",
    "fig = plt.figure(figsize=(10,7))\n",
    "ax=fig.add_axes([0,0,1,1])\n",
    "bp= ax.boxplot(datos)\n",
    "plt.show()"
   ]
  },
  {
   "cell_type": "code",
   "execution_count": null,
   "metadata": {},
   "outputs": [],
   "source": []
  }
 ],
 "metadata": {
  "colab": {
   "name": "A01251884_Act_DescriptivasCS.ipynb",
   "provenance": []
  },
  "kernelspec": {
   "display_name": "Python 3",
   "language": "python",
   "name": "python3"
  },
  "language_info": {
   "codemirror_mode": {
    "name": "ipython",
    "version": 3
   },
   "file_extension": ".py",
   "mimetype": "text/x-python",
   "name": "python",
   "nbconvert_exporter": "python",
   "pygments_lexer": "ipython3",
   "version": "3.8.5"
  }
 },
 "nbformat": 4,
 "nbformat_minor": 1
}
