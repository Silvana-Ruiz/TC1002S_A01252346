{
 "cells": [
  {
   "cell_type": "code",
   "execution_count": 1,
   "metadata": {
    "id": "dZ4EATnolN6p"
   },
   "outputs": [],
   "source": [
    "from matplotlib import pyplot as plt\n",
    "import pandas as pd\n",
    "import seaborn as sns\n",
    "import numpy as np"
   ]
  },
  {
   "cell_type": "markdown",
   "metadata": {},
   "source": [
    "Al iniciar nuestro código importamos la librería pyplotlib desde matplotlib, importamos pandas, seaborn y numpy.\n",
    "\n",
    "La base de datos utilizada es la de Child Smokers, el objetivo de su análisis es para identificar la posibilidad que se tiene de tener una función pulmonar reducida de los niños y se compara a aquellos que fuman a los que no."
   ]
  },
  {
   "cell_type": "code",
   "execution_count": 2,
   "metadata": {
    "colab": {
     "base_uri": "https://localhost:8080/",
     "height": 413
    },
    "id": "YEeTj47jlN6w",
    "outputId": "6a42491d-c0a3-4a30-b55d-58356a5772d4"
   },
   "outputs": [
    {
     "data": {
      "text/html": [
       "<div>\n",
       "<style scoped>\n",
       "    .dataframe tbody tr th:only-of-type {\n",
       "        vertical-align: middle;\n",
       "    }\n",
       "\n",
       "    .dataframe tbody tr th {\n",
       "        vertical-align: top;\n",
       "    }\n",
       "\n",
       "    .dataframe thead th {\n",
       "        text-align: right;\n",
       "    }\n",
       "</style>\n",
       "<table border=\"1\" class=\"dataframe\">\n",
       "  <thead>\n",
       "    <tr style=\"text-align: right;\">\n",
       "      <th></th>\n",
       "      <th>Age (years)</th>\n",
       "      <th>Height (cm)</th>\n",
       "      <th>FEV (litres)</th>\n",
       "      <th>Sex</th>\n",
       "      <th>Smoker</th>\n",
       "    </tr>\n",
       "  </thead>\n",
       "  <tbody>\n",
       "    <tr>\n",
       "      <th>0</th>\n",
       "      <td>9</td>\n",
       "      <td>145</td>\n",
       "      <td>1.708</td>\n",
       "      <td>female</td>\n",
       "      <td>non</td>\n",
       "    </tr>\n",
       "    <tr>\n",
       "      <th>1</th>\n",
       "      <td>8</td>\n",
       "      <td>171</td>\n",
       "      <td>1.724</td>\n",
       "      <td>female</td>\n",
       "      <td>non</td>\n",
       "    </tr>\n",
       "    <tr>\n",
       "      <th>2</th>\n",
       "      <td>7</td>\n",
       "      <td>138</td>\n",
       "      <td>1.720</td>\n",
       "      <td>female</td>\n",
       "      <td>non</td>\n",
       "    </tr>\n",
       "    <tr>\n",
       "      <th>3</th>\n",
       "      <td>9</td>\n",
       "      <td>135</td>\n",
       "      <td>1.558</td>\n",
       "      <td>male</td>\n",
       "      <td>non</td>\n",
       "    </tr>\n",
       "    <tr>\n",
       "      <th>4</th>\n",
       "      <td>9</td>\n",
       "      <td>145</td>\n",
       "      <td>1.895</td>\n",
       "      <td>male</td>\n",
       "      <td>non</td>\n",
       "    </tr>\n",
       "    <tr>\n",
       "      <th>...</th>\n",
       "      <td>...</td>\n",
       "      <td>...</td>\n",
       "      <td>...</td>\n",
       "      <td>...</td>\n",
       "      <td>...</td>\n",
       "    </tr>\n",
       "    <tr>\n",
       "      <th>649</th>\n",
       "      <td>15</td>\n",
       "      <td>152</td>\n",
       "      <td>2.278</td>\n",
       "      <td>female</td>\n",
       "      <td>smoker</td>\n",
       "    </tr>\n",
       "    <tr>\n",
       "      <th>650</th>\n",
       "      <td>16</td>\n",
       "      <td>183</td>\n",
       "      <td>4.872</td>\n",
       "      <td>male</td>\n",
       "      <td>smoker</td>\n",
       "    </tr>\n",
       "    <tr>\n",
       "      <th>651</th>\n",
       "      <td>16</td>\n",
       "      <td>170</td>\n",
       "      <td>4.270</td>\n",
       "      <td>male</td>\n",
       "      <td>smoker</td>\n",
       "    </tr>\n",
       "    <tr>\n",
       "      <th>652</th>\n",
       "      <td>15</td>\n",
       "      <td>173</td>\n",
       "      <td>3.727</td>\n",
       "      <td>male</td>\n",
       "      <td>smoker</td>\n",
       "    </tr>\n",
       "    <tr>\n",
       "      <th>653</th>\n",
       "      <td>16</td>\n",
       "      <td>160</td>\n",
       "      <td>2.795</td>\n",
       "      <td>female</td>\n",
       "      <td>smoker</td>\n",
       "    </tr>\n",
       "  </tbody>\n",
       "</table>\n",
       "<p>654 rows × 5 columns</p>\n",
       "</div>"
      ],
      "text/plain": [
       "     Age (years)  Height (cm)  FEV (litres)     Sex  Smoker\n",
       "0              9          145         1.708  female     non\n",
       "1              8          171         1.724  female     non\n",
       "2              7          138         1.720  female     non\n",
       "3              9          135         1.558    male     non\n",
       "4              9          145         1.895    male     non\n",
       "..           ...          ...           ...     ...     ...\n",
       "649           15          152         2.278  female  smoker\n",
       "650           16          183         4.872    male  smoker\n",
       "651           16          170         4.270    male  smoker\n",
       "652           15          173         3.727    male  smoker\n",
       "653           16          160         2.795  female  smoker\n",
       "\n",
       "[654 rows x 5 columns]"
      ]
     },
     "execution_count": 2,
     "metadata": {},
     "output_type": "execute_result"
    }
   ],
   "source": [
    "data = pd.read_csv('Child smokers.csv', na_values = ':')\n",
    "data"
   ]
  },
  {
   "cell_type": "markdown",
   "metadata": {},
   "source": [
    "Usamos la función pd.read_csv() para leer nuestros datos y lo asignamos a una variable, en este caso la variable data.\n",
    "\n",
    "Los datos en el archivo estan completos; es decir, no había datos incorrectos o inexistentes. Las variables incluidas son Age (years), la cual representa la edad de la persona, Height (cm), la cual es la altura, FEV (litres), el cual es el volumen espiratorio forzado en litros, Sex, indica si es mujer u hombre el individuo en cuestión y Smoker, la cual indica si la persona fuma o no."
   ]
  },
  {
   "cell_type": "code",
   "execution_count": 3,
   "metadata": {
    "id": "KB2pvdZflN6z",
    "outputId": "70d6cafd-f469-4845-b3dd-66650d1a5e56"
   },
   "outputs": [
    {
     "data": {
      "text/html": [
       "<div>\n",
       "<style scoped>\n",
       "    .dataframe tbody tr th:only-of-type {\n",
       "        vertical-align: middle;\n",
       "    }\n",
       "\n",
       "    .dataframe tbody tr th {\n",
       "        vertical-align: top;\n",
       "    }\n",
       "\n",
       "    .dataframe thead th {\n",
       "        text-align: right;\n",
       "    }\n",
       "</style>\n",
       "<table border=\"1\" class=\"dataframe\">\n",
       "  <thead>\n",
       "    <tr style=\"text-align: right;\">\n",
       "      <th></th>\n",
       "      <th>Age (years)</th>\n",
       "      <th>Height (cm)</th>\n",
       "      <th>FEV (litres)</th>\n",
       "    </tr>\n",
       "  </thead>\n",
       "  <tbody>\n",
       "    <tr>\n",
       "      <th>count</th>\n",
       "      <td>654.000000</td>\n",
       "      <td>654.000000</td>\n",
       "      <td>654.000000</td>\n",
       "    </tr>\n",
       "    <tr>\n",
       "      <th>mean</th>\n",
       "      <td>9.931193</td>\n",
       "      <td>155.298165</td>\n",
       "      <td>2.636780</td>\n",
       "    </tr>\n",
       "    <tr>\n",
       "      <th>std</th>\n",
       "      <td>2.953935</td>\n",
       "      <td>14.471647</td>\n",
       "      <td>0.867059</td>\n",
       "    </tr>\n",
       "    <tr>\n",
       "      <th>min</th>\n",
       "      <td>3.000000</td>\n",
       "      <td>117.000000</td>\n",
       "      <td>0.791000</td>\n",
       "    </tr>\n",
       "    <tr>\n",
       "      <th>25%</th>\n",
       "      <td>8.000000</td>\n",
       "      <td>145.000000</td>\n",
       "      <td>1.981000</td>\n",
       "    </tr>\n",
       "    <tr>\n",
       "      <th>50%</th>\n",
       "      <td>10.000000</td>\n",
       "      <td>156.000000</td>\n",
       "      <td>2.547500</td>\n",
       "    </tr>\n",
       "    <tr>\n",
       "      <th>75%</th>\n",
       "      <td>12.000000</td>\n",
       "      <td>166.000000</td>\n",
       "      <td>3.118500</td>\n",
       "    </tr>\n",
       "    <tr>\n",
       "      <th>max</th>\n",
       "      <td>19.000000</td>\n",
       "      <td>188.000000</td>\n",
       "      <td>5.793000</td>\n",
       "    </tr>\n",
       "  </tbody>\n",
       "</table>\n",
       "</div>"
      ],
      "text/plain": [
       "       Age (years)  Height (cm)  FEV (litres)\n",
       "count   654.000000   654.000000    654.000000\n",
       "mean      9.931193   155.298165      2.636780\n",
       "std       2.953935    14.471647      0.867059\n",
       "min       3.000000   117.000000      0.791000\n",
       "25%       8.000000   145.000000      1.981000\n",
       "50%      10.000000   156.000000      2.547500\n",
       "75%      12.000000   166.000000      3.118500\n",
       "max      19.000000   188.000000      5.793000"
      ]
     },
     "execution_count": 3,
     "metadata": {},
     "output_type": "execute_result"
    }
   ],
   "source": [
    "data.describe()"
   ]
  },
  {
   "cell_type": "markdown",
   "metadata": {},
   "source": [
    "Usamos la función .describe() y esta nos imprime una tabla con distintos datos sobre nuestra información. Los datos que nos da son la media, la desviación estándar, el mínimo, y el máximo para nuestras variables numéricas Age, Height y FEV.\n",
    "\n",
    "Los promedios son de 9.93, 155.29 y 2.63 respectivamente. La desviación estándar es de 2.95, 14.47 y 0.86 respectivamente. Esto nos dice que el valor de la edad se aleja poco del promedio ya que tenemos un rango de edades de 3 a 19. La desviación estándar de la altura si varía mucho ya que el rango es muy grande y para el FEV, tenemos un valor cerca de lo esperado. Para conseguir la mediana usamos .median() y esto nos da 10, 156 y 2.63 respectivamente. "
   ]
  },
  {
   "cell_type": "code",
   "execution_count": 4,
   "metadata": {},
   "outputs": [
    {
     "data": {
      "text/plain": [
       "Age (years)       int64\n",
       "Height (cm)       int64\n",
       "FEV (litres)    float64\n",
       "Sex              object\n",
       "Smoker           object\n",
       "dtype: object"
      ]
     },
     "execution_count": 4,
     "metadata": {},
     "output_type": "execute_result"
    }
   ],
   "source": [
    "data.dtypes"
   ]
  },
  {
   "cell_type": "markdown",
   "metadata": {},
   "source": [
    "Con la función .dtypes podemos ver que tipo de dato es cada columna del archivo csv. Esto es importante para saber cómo manipularemos los datos."
   ]
  },
  {
   "cell_type": "code",
   "execution_count": 7,
   "metadata": {},
   "outputs": [
    {
     "name": "stdout",
     "output_type": "stream",
     "text": [
      "El rango de Age es de 3  a 19\n",
      "El rango de Height es de 117  a 188\n",
      "El rango de FEV es de 0.7909999999999999  a 5.792999999999999\n"
     ]
    }
   ],
   "source": [
    "print(\"El rango de Age es de\",data['Age (years)'].min(),\" a\",data['Age (years)'].max())\n",
    "print(\"El rango de Height es de\",data['Height (cm)'].min(),\" a\",data['Height (cm)'].max())\n",
    "print(\"El rango de FEV es de\",data['FEV (litres)'].min(),\" a\",data['FEV (litres)'].max())"
   ]
  },
  {
   "cell_type": "markdown",
   "metadata": {},
   "source": [
    "En esta seccion utilizamos las funciones de .min() y .max() en las columnas Age (years), Height (cm) y FEV (litres) para poder identificara la minima y maxima de cada una y asi identificar el rango de datos que maneja cada uno de estos datos. La razon por la cual excluimos Sex y Smocker es por que sus datos no son de tipo numerico y no nos aportaria mucha informacion."
   ]
  },
  {
   "cell_type": "code",
   "execution_count": 5,
   "metadata": {
    "id": "NPLgRCaLlN65",
    "outputId": "4d23d455-891a-4e24-ff06-ff7beab0c9cd"
   },
   "outputs": [
    {
     "data": {
      "text/plain": [
       "10.0"
      ]
     },
     "execution_count": 5,
     "metadata": {},
     "output_type": "execute_result"
    }
   ],
   "source": [
    "data['Age (years)'].median()"
   ]
  },
  {
   "cell_type": "code",
   "execution_count": 6,
   "metadata": {
    "id": "vupRJPGalN65",
    "outputId": "6378d8ce-41b1-4332-fec8-71fe54b3cf1c"
   },
   "outputs": [
    {
     "data": {
      "text/plain": [
       "156.0"
      ]
     },
     "execution_count": 6,
     "metadata": {},
     "output_type": "execute_result"
    }
   ],
   "source": [
    "data['Height (cm)'].median()"
   ]
  },
  {
   "cell_type": "code",
   "execution_count": 7,
   "metadata": {
    "id": "tvuHQShnlN65",
    "outputId": "8ebd3b71-1163-444d-fdb3-f5aec8f83fac"
   },
   "outputs": [
    {
     "data": {
      "text/plain": [
       "2.5475"
      ]
     },
     "execution_count": 7,
     "metadata": {},
     "output_type": "execute_result"
    }
   ],
   "source": [
    "data['FEV (litres)'].median()"
   ]
  },
  {
   "cell_type": "markdown",
   "metadata": {},
   "source": [
    "Usamos la función .median() para conseguir la mediana de nuestras variables. La escribimos como data['Age (years)'].median() para obtener la mediana de la variable Age (years). Hacemos lo mismo para Heigth (cm) y FEV (litres).\n",
    "\n"
   ]
  },
  {
   "cell_type": "code",
   "execution_count": 8,
   "metadata": {
    "colab": {
     "base_uri": "https://localhost:8080/",
     "height": 243
    },
    "id": "hW1p7hWwlQ1K",
    "outputId": "bd7fe33e-32ba-40df-8838-c1d9eb9a1ca1"
   },
   "outputs": [
    {
     "data": {
      "text/html": [
       "<div>\n",
       "<style scoped>\n",
       "    .dataframe tbody tr th:only-of-type {\n",
       "        vertical-align: middle;\n",
       "    }\n",
       "\n",
       "    .dataframe tbody tr th {\n",
       "        vertical-align: top;\n",
       "    }\n",
       "\n",
       "    .dataframe thead th {\n",
       "        text-align: right;\n",
       "    }\n",
       "</style>\n",
       "<table border=\"1\" class=\"dataframe\">\n",
       "  <thead>\n",
       "    <tr style=\"text-align: right;\">\n",
       "      <th></th>\n",
       "      <th>Age (years)</th>\n",
       "      <th>Height (cm)</th>\n",
       "      <th>FEV (litres)</th>\n",
       "      <th>Sex</th>\n",
       "      <th>Smoker</th>\n",
       "    </tr>\n",
       "  </thead>\n",
       "  <tbody>\n",
       "    <tr>\n",
       "      <th>0</th>\n",
       "      <td>9</td>\n",
       "      <td>145</td>\n",
       "      <td>1.708</td>\n",
       "      <td>0</td>\n",
       "      <td>0</td>\n",
       "    </tr>\n",
       "    <tr>\n",
       "      <th>1</th>\n",
       "      <td>8</td>\n",
       "      <td>171</td>\n",
       "      <td>1.724</td>\n",
       "      <td>0</td>\n",
       "      <td>0</td>\n",
       "    </tr>\n",
       "    <tr>\n",
       "      <th>2</th>\n",
       "      <td>7</td>\n",
       "      <td>138</td>\n",
       "      <td>1.720</td>\n",
       "      <td>0</td>\n",
       "      <td>0</td>\n",
       "    </tr>\n",
       "    <tr>\n",
       "      <th>3</th>\n",
       "      <td>9</td>\n",
       "      <td>135</td>\n",
       "      <td>1.558</td>\n",
       "      <td>1</td>\n",
       "      <td>0</td>\n",
       "    </tr>\n",
       "    <tr>\n",
       "      <th>4</th>\n",
       "      <td>9</td>\n",
       "      <td>145</td>\n",
       "      <td>1.895</td>\n",
       "      <td>1</td>\n",
       "      <td>0</td>\n",
       "    </tr>\n",
       "    <tr>\n",
       "      <th>...</th>\n",
       "      <td>...</td>\n",
       "      <td>...</td>\n",
       "      <td>...</td>\n",
       "      <td>...</td>\n",
       "      <td>...</td>\n",
       "    </tr>\n",
       "    <tr>\n",
       "      <th>649</th>\n",
       "      <td>15</td>\n",
       "      <td>152</td>\n",
       "      <td>2.278</td>\n",
       "      <td>0</td>\n",
       "      <td>1</td>\n",
       "    </tr>\n",
       "    <tr>\n",
       "      <th>650</th>\n",
       "      <td>16</td>\n",
       "      <td>183</td>\n",
       "      <td>4.872</td>\n",
       "      <td>1</td>\n",
       "      <td>1</td>\n",
       "    </tr>\n",
       "    <tr>\n",
       "      <th>651</th>\n",
       "      <td>16</td>\n",
       "      <td>170</td>\n",
       "      <td>4.270</td>\n",
       "      <td>1</td>\n",
       "      <td>1</td>\n",
       "    </tr>\n",
       "    <tr>\n",
       "      <th>652</th>\n",
       "      <td>15</td>\n",
       "      <td>173</td>\n",
       "      <td>3.727</td>\n",
       "      <td>1</td>\n",
       "      <td>1</td>\n",
       "    </tr>\n",
       "    <tr>\n",
       "      <th>653</th>\n",
       "      <td>16</td>\n",
       "      <td>160</td>\n",
       "      <td>2.795</td>\n",
       "      <td>0</td>\n",
       "      <td>1</td>\n",
       "    </tr>\n",
       "  </tbody>\n",
       "</table>\n",
       "<p>654 rows × 5 columns</p>\n",
       "</div>"
      ],
      "text/plain": [
       "     Age (years)  Height (cm)  FEV (litres)  Sex  Smoker\n",
       "0              9          145         1.708    0       0\n",
       "1              8          171         1.724    0       0\n",
       "2              7          138         1.720    0       0\n",
       "3              9          135         1.558    1       0\n",
       "4              9          145         1.895    1       0\n",
       "..           ...          ...           ...  ...     ...\n",
       "649           15          152         2.278    0       1\n",
       "650           16          183         4.872    1       1\n",
       "651           16          170         4.270    1       1\n",
       "652           15          173         3.727    1       1\n",
       "653           16          160         2.795    0       1\n",
       "\n",
       "[654 rows x 5 columns]"
      ]
     },
     "execution_count": 8,
     "metadata": {},
     "output_type": "execute_result"
    }
   ],
   "source": [
    "data['Sex'] = data['Sex'].astype('category').cat.codes\n",
    "data['Smoker'] = data['Smoker'].astype('category').cat.codes\n",
    "\n",
    "data = pd.DataFrame(data)\n",
    "data"
   ]
  },
  {
   "cell_type": "markdown",
   "metadata": {},
   "source": [
    "Lo siguiente que haremos es transformar nuestra variable data a un data frame. Para esto convertimos las variables Sex y Smoker a ‘category’ ya que estas eran tipo object. Usamos la función .astype(‘category’).cat.codes en ambas variables y usamos pd.DataFrame(data) para tener nuestro data frame. "
   ]
  },
  {
   "cell_type": "code",
   "execution_count": 9,
   "metadata": {},
   "outputs": [
    {
     "data": {
      "image/png": "[encoded data removed]",
      "text/plain": [
       "<Figure size 432x288 with 1 Axes>"
      ]
     },
     "metadata": {
      "needs_background": "light"
     },
     "output_type": "display_data"
    }
   ],
   "source": [
    "ax = sns.scatterplot(x = \"Age (years)\", y = \"Height (cm)\", data = data,ci=False)"
   ]
  },
  {
   "cell_type": "markdown",
   "metadata": {},
   "source": [
    "Después, se realizan diagramas de dispersión usando la función  scatterplot  de la librería seaborn. Primero se tiene el diagrama de Age (years) contra Height (cm). Esta gráfica muestra que existe una correlación positiva entre estas variables, ambas aumentan simultáneamente. No obstante, cuando se llega a la edad de 15 se comienza a notar un cambio en la correlación a una negativa, donde la edad aumenta y la altura disminuye."
   ]
  },
  {
   "cell_type": "code",
   "execution_count": 10,
   "metadata": {},
   "outputs": [
    {
     "data": {
      "image/png": "[encoded data removed]",
      "text/plain": [
       "<Figure size 432x288 with 1 Axes>"
      ]
     },
     "metadata": {
      "needs_background": "light"
     },
     "output_type": "display_data"
    }
   ],
   "source": [
    "ax = sns.scatterplot(x = \"Age (years)\", y = \"FEV (litres)\", data = data,ci=False)"
   ]
  },
  {
   "cell_type": "markdown",
   "metadata": {},
   "source": [
    "Se realiza un diagrama de dispersión de las variables Age (years) y FEV (litres) usando la función  scatterplot  de la librería seaborn. Se puede observar una correlación positiva, donde a medida que aumenta la edad, el FEV también lo hace."
   ]
  },
  {
   "cell_type": "code",
   "execution_count": 11,
   "metadata": {},
   "outputs": [
    {
     "data": {
      "image/png": "[encoded data removed]",
      "text/plain": [
       "<Figure size 432x288 with 1 Axes>"
      ]
     },
     "metadata": {
      "needs_background": "light"
     },
     "output_type": "display_data"
    }
   ],
   "source": [
    "ax = sns.scatterplot(x = \"Height (cm)\", y = \"FEV (litres)\", data = data,ci=False)"
   ]
  },
  {
   "cell_type": "markdown",
   "metadata": {},
   "source": [
    "Se realiza un diagrama de dispersión de las variables Height (cm) y FEV (litres) usando la función  scatterplot  de la librería seaborn. Se aprecia que hay una muy clara correlación positiva, lo cual significa que mientras aumenta la altura, el FEV también aumenta."
   ]
  },
  {
   "cell_type": "code",
   "execution_count": 12,
   "metadata": {},
   "outputs": [
    {
     "data": {
      "image/png": "[encoded data removed]",
      "text/plain": [
       "<Figure size 432x288 with 1 Axes>"
      ]
     },
     "metadata": {
      "needs_background": "light"
     },
     "output_type": "display_data"
    }
   ],
   "source": [
    "from collections import Counter\n",
    "valores = data[\"Age (years)\"]\n",
    "histogram = Counter(min(valor//1*1,20)for valor in valores)\n",
    "plt.bar([x for x in histogram.keys()],histogram.values(),1,edgecolor = (0,0,0))\n",
    "plt.xticks([i for i in range(20)])\n",
    "plt.xlabel(\"Edad\")\n",
    "plt.ylabel(\"# de niños\")\n",
    "plt.title(\"Distribucion de Age (years)\")\n",
    "plt.show()"
   ]
  },
  {
   "cell_type": "markdown",
   "metadata": {},
   "source": [
    "Ahora, de la Collections se importa Counter para realizar histogramas, esta cuenta la cantidad de apariciones de un dato, con  .bar es posible hacer las gráfica e indica detalles de esta, .xticks, .xlabel, .ylabel, .title establecen el formato. Finalmente, .show muestra el histograma. \n",
    "\n",
    "En el histograma de la variable Age (years) se nota un comportamiento de una distribución casi normal. Se tiene una cantidad pequeña de menores de 8 años, las personas de edades de 8 a 12 años componen la mayor parte de la muestra y de los 13 a 19 años se tiene cada vez una cantidad no tan elevada como la anterior. Esta es una variable discreta."
   ]
  },
  {
   "cell_type": "code",
   "execution_count": 13,
   "metadata": {},
   "outputs": [
    {
     "data": {
      "image/png": "[encoded data removed]",
      "text/plain": [
       "<Figure size 432x288 with 1 Axes>"
      ]
     },
     "metadata": {
      "needs_background": "light"
     },
     "output_type": "display_data"
    }
   ],
   "source": [
    "valores = data[\"FEV (litres)\"]\n",
    "histogram = Counter(min(valor//1*1,6)for valor in valores)\n",
    "plt.bar([x for x in histogram.keys()],histogram.values(),1,edgecolor = (0,0,0))\n",
    "plt.xticks([i for i in range(6)])\n",
    "plt.xlabel(\"FEV en litros\")\n",
    "plt.ylabel(\"# de niños\")\n",
    "plt.title(\"Distribucion de FEV (litros)\")\n",
    "plt.show()"
   ]
  },
  {
   "cell_type": "markdown",
   "metadata": {},
   "source": [
    "En el histograma de la variable FEV(litres) se nota un comportamiento de una distribución casi normal. Primero se tienen pocos niños con FEV con un valor menor a dos, posteriormente, se tiene la mayor cantidad de niños con FEV de 2 litros a casi 3 litros, después, se tiene una menor cantidad de niños con FEV de 3 litros en adelante."
   ]
  },
  {
   "cell_type": "code",
   "execution_count": 14,
   "metadata": {},
   "outputs": [
    {
     "data": {
      "image/png": "[encoded data removed]",
      "text/plain": [
       "<Figure size 432x288 with 1 Axes>"
      ]
     },
     "metadata": {
      "needs_background": "light"
     },
     "output_type": "display_data"
    }
   ],
   "source": [
    "valores = data[\"Height (cm)\"]\n",
    "histogram = Counter(min(valor//10*10,190)for valor in valores)\n",
    "plt.bar([x+10 for x in histogram.keys()],histogram.values(),10,edgecolor = (0,0,0))\n",
    "plt.xticks([i*10 for i in range(19)])\n",
    "plt.xlabel(\"Altura\")\n",
    "plt.ylabel(\"# de niños\")\n",
    "plt.title(\"Distribucion de Height (cm)\")\n",
    "plt.show()"
   ]
  },
  {
   "cell_type": "markdown",
   "metadata": {},
   "source": [
    "En el histograma de la variable height se tiene una muestra con una altura superior a los 110 cm. Primero, se observa una cantidad moderada de niños con una altura menor a 160 cm. Después, se aprecia una gran cantidad de individuos con una altura de 160 cm a 170 cm. Luego, se tiene cada vez una cantidad menor que la anterior de niños con  una altura mayor de 170 cm."
   ]
  },
  {
   "cell_type": "code",
   "execution_count": 15,
   "metadata": {},
   "outputs": [
    {
     "data": {
      "image/png": "[encoded data removed]",
      "text/plain": [
       "<Figure size 432x288 with 1 Axes>"
      ]
     },
     "metadata": {
      "needs_background": "light"
     },
     "output_type": "display_data"
    }
   ],
   "source": [
    "valores = data[\"Sex\"]\n",
    "histogram = Counter(min(valor//1*1,3)for valor in valores)\n",
    "plt.bar([x for x in histogram.keys()],histogram.values(),1,edgecolor = (0,0,0))\n",
    "plt.xticks([i for i in range(3)])\n",
    "plt.xlabel(\"Sex0 (Mujer = 0, Hombre =1)\")\n",
    "plt.ylabel(\"# de niños\")\n",
    "plt.title(\"Distribucion de Sex\")\n",
    "plt.show()"
   ]
  },
  {
   "cell_type": "markdown",
   "metadata": {},
   "source": [
    "En el histograma de la variable sex observamos que la mayoría de los niños son de sexo masculino, siendo ligeramente menor la cantidad de sexo femenino."
   ]
  },
  {
   "cell_type": "code",
   "execution_count": 18,
   "metadata": {},
   "outputs": [
    {
     "data": {
      "image/png": "[encoded data removed]",
      "text/plain": [
       "<Figure size 432x288 with 1 Axes>"
      ]
     },
     "metadata": {
      "needs_background": "light"
     },
     "output_type": "display_data"
    }
   ],
   "source": [
    "valores = data[\"Smoker\"]\n",
    "histogram = Counter(min(valor//1*1,2)for valor in valores)\n",
    "plt.bar([x for x in histogram.keys()],histogram.values(),1,edgecolor = (0,0,0))\n",
    "plt.xticks([i for i in range(2)])\n",
    "plt.xlabel(\"Fumadores (Fuman = 1,No fuman =0)\")\n",
    "plt.ylabel(\"# de niños\")\n",
    "plt.title(\"Distribucion de Smoker\")\n",
    "plt.show()(("
   ]
  },
  {
   "cell_type": "markdown",
   "metadata": {},
   "source": [
    "En el último histograma observamos datos de la variable smoker, se observa que la gran mayoría de los niños en la base de datos no fuman, siendo muy pocos niños los que fuman."
   ]
  },
  {
   "cell_type": "code",
   "execution_count": 19,
   "metadata": {},
   "outputs": [
    {
     "data": {
      "text/html": [
       "<div>\n",
       "<style scoped>\n",
       "    .dataframe tbody tr th:only-of-type {\n",
       "        vertical-align: middle;\n",
       "    }\n",
       "\n",
       "    .dataframe tbody tr th {\n",
       "        vertical-align: top;\n",
       "    }\n",
       "\n",
       "    .dataframe thead th {\n",
       "        text-align: right;\n",
       "    }\n",
       "</style>\n",
       "<table border=\"1\" class=\"dataframe\">\n",
       "  <thead>\n",
       "    <tr style=\"text-align: right;\">\n",
       "      <th></th>\n",
       "      <th>Age (years)</th>\n",
       "      <th>Height (cm)</th>\n",
       "      <th>FEV (litres)</th>\n",
       "      <th>Sex</th>\n",
       "      <th>Smoker</th>\n",
       "    </tr>\n",
       "  </thead>\n",
       "  <tbody>\n",
       "    <tr>\n",
       "      <th>0</th>\n",
       "      <td>0.3750</td>\n",
       "      <td>0.394366</td>\n",
       "      <td>0.183327</td>\n",
       "      <td>0.0</td>\n",
       "      <td>0.0</td>\n",
       "    </tr>\n",
       "    <tr>\n",
       "      <th>1</th>\n",
       "      <td>0.3125</td>\n",
       "      <td>0.760563</td>\n",
       "      <td>0.186525</td>\n",
       "      <td>0.0</td>\n",
       "      <td>0.0</td>\n",
       "    </tr>\n",
       "    <tr>\n",
       "      <th>2</th>\n",
       "      <td>0.2500</td>\n",
       "      <td>0.295775</td>\n",
       "      <td>0.185726</td>\n",
       "      <td>0.0</td>\n",
       "      <td>0.0</td>\n",
       "    </tr>\n",
       "    <tr>\n",
       "      <th>3</th>\n",
       "      <td>0.3750</td>\n",
       "      <td>0.253521</td>\n",
       "      <td>0.153339</td>\n",
       "      <td>1.0</td>\n",
       "      <td>0.0</td>\n",
       "    </tr>\n",
       "    <tr>\n",
       "      <th>4</th>\n",
       "      <td>0.3750</td>\n",
       "      <td>0.394366</td>\n",
       "      <td>0.220712</td>\n",
       "      <td>1.0</td>\n",
       "      <td>0.0</td>\n",
       "    </tr>\n",
       "    <tr>\n",
       "      <th>...</th>\n",
       "      <td>...</td>\n",
       "      <td>...</td>\n",
       "      <td>...</td>\n",
       "      <td>...</td>\n",
       "      <td>...</td>\n",
       "    </tr>\n",
       "    <tr>\n",
       "      <th>649</th>\n",
       "      <td>0.7500</td>\n",
       "      <td>0.492958</td>\n",
       "      <td>0.297281</td>\n",
       "      <td>0.0</td>\n",
       "      <td>1.0</td>\n",
       "    </tr>\n",
       "    <tr>\n",
       "      <th>650</th>\n",
       "      <td>0.8125</td>\n",
       "      <td>0.929577</td>\n",
       "      <td>0.815874</td>\n",
       "      <td>1.0</td>\n",
       "      <td>1.0</td>\n",
       "    </tr>\n",
       "    <tr>\n",
       "      <th>651</th>\n",
       "      <td>0.8125</td>\n",
       "      <td>0.746479</td>\n",
       "      <td>0.695522</td>\n",
       "      <td>1.0</td>\n",
       "      <td>1.0</td>\n",
       "    </tr>\n",
       "    <tr>\n",
       "      <th>652</th>\n",
       "      <td>0.7500</td>\n",
       "      <td>0.788732</td>\n",
       "      <td>0.586965</td>\n",
       "      <td>1.0</td>\n",
       "      <td>1.0</td>\n",
       "    </tr>\n",
       "    <tr>\n",
       "      <th>653</th>\n",
       "      <td>0.8125</td>\n",
       "      <td>0.605634</td>\n",
       "      <td>0.400640</td>\n",
       "      <td>0.0</td>\n",
       "      <td>1.0</td>\n",
       "    </tr>\n",
       "  </tbody>\n",
       "</table>\n",
       "<p>654 rows × 5 columns</p>\n",
       "</div>"
      ],
      "text/plain": [
       "     Age (years)  Height (cm)  FEV (litres)  Sex  Smoker\n",
       "0         0.3750     0.394366      0.183327  0.0     0.0\n",
       "1         0.3125     0.760563      0.186525  0.0     0.0\n",
       "2         0.2500     0.295775      0.185726  0.0     0.0\n",
       "3         0.3750     0.253521      0.153339  1.0     0.0\n",
       "4         0.3750     0.394366      0.220712  1.0     0.0\n",
       "..           ...          ...           ...  ...     ...\n",
       "649       0.7500     0.492958      0.297281  0.0     1.0\n",
       "650       0.8125     0.929577      0.815874  1.0     1.0\n",
       "651       0.8125     0.746479      0.695522  1.0     1.0\n",
       "652       0.7500     0.788732      0.586965  1.0     1.0\n",
       "653       0.8125     0.605634      0.400640  0.0     1.0\n",
       "\n",
       "[654 rows x 5 columns]"
      ]
     },
     "execution_count": 19,
     "metadata": {},
     "output_type": "execute_result"
    }
   ],
   "source": [
    "from sklearn.preprocessing import MinMaxScaler\n",
    "min_max = MinMaxScaler()\n",
    "data1 = data\n",
    "data2 = min_max.fit_transform(data1.values)\n",
    "dataf = pd.DataFrame(data2, columns=data1.columns)\n",
    "dataf"
   ]
  },
  {
   "cell_type": "markdown",
   "metadata": {},
   "source": [
    "Antes de graficar los datos, normalizamos nuestros datos entre valores de 0 a 1 con la función MinMaxScaler() de la librería de sklearn.preprocessing. Con esta función logramos crear una base de dato que tome el valor más grande de cada variable y lo convierte a uno y el más chico a cero, y todos los valores de por medio los iguala para que tenga su valor correspondiente entre estos parámetros."
   ]
  },
  {
   "cell_type": "code",
   "execution_count": 20,
   "metadata": {
    "id": "Y90QPd3bm-Di"
   },
   "outputs": [
    {
     "data": {
      "text/plain": [
       "<AxesSubplot:>"
      ]
     },
     "execution_count": 20,
     "metadata": {},
     "output_type": "execute_result"
    },
    {
     "data": {
      "image/png": "[encoded data removed]",
      "text/plain": [
       "<Figure size 432x288 with 2 Axes>"
      ]
     },
     "metadata": {
      "needs_background": "light"
     },
     "output_type": "display_data"
    }
   ],
   "source": [
    "correlation_matrix = dataf.corr().round(2)\n",
    "sns.heatmap(data=correlation_matrix, vmin = -1,annot=True)"
   ]
  },
  {
   "cell_type": "markdown",
   "metadata": {},
   "source": [
    "Se utiliza el marco de datos con los valores normalizados para así con la función .corr realizar la matriz para hacer el heatmap, este se hace con la función .heatmap de librería seaborn. Los valores mostrados en el mapa de calor van del -1 al 1, donde mientras más cercanos estén al -1, se tiene una correlación negativa y, mientras más cerca se esté del 1, se tendrá una correlación positiva. En este caso se aprecia que la variable que se relaciona más con FEV es la Height (cm). Es decir, hay una correlación positiva, y mientras la altura aumente, FEV también lo hará. La edad, Age (years) también tiene una correlación positiva, y de igual forma mientras más aumenta esta, más lo hará FEV. En cambio, las varibles Sex y Smoker tienen una correlación positiva pero no tanto como las anteriores, lo cual significa que si la persona es hombre (ya que 1 significa sexo masxulino) mayor será su FEV. En el caso de Smoker, si se fuma (ya que 1 significa que la persona es fumadora), mayor será el FEV.  Curiosamente, lo encontrado es lo contrario a lo que se esperaría pero los datos del estudio avalan tal información."
   ]
  },
  {
   "cell_type": "code",
   "execution_count": 21,
   "metadata": {
    "id": "JLWIDhkYn_x7"
   },
   "outputs": [
    {
     "data": {
      "image/png": "[encoded data removed]",
      "text/plain": [
       "<Figure size 720x504 with 1 Axes>"
      ]
     },
     "metadata": {
      "needs_background": "light"
     },
     "output_type": "display_data"
    }
   ],
   "source": [
    "datos = [dataf['Age (years)'],dataf['FEV (litres)'],dataf['Height (cm)']]\n",
    "fig = plt.figure(figsize=(10,7))\n",
    "ax=fig.add_axes([0,0,1,1])\n",
    "bp= ax.boxplot(datos)\n",
    "labels = ('Age (years)','FEV (litres)','Height (cm)')\n",
    "plt.xticks(np.arange(len(labels))+1,labels)\n",
    "plt.show()"
   ]
  },
  {
   "cell_type": "markdown",
   "metadata": {},
   "source": [
    "A continuación, se realizan los boxplots para representar las variables numéricas, esto se hace con la función plt.figure para indicar el tamaño, .addaxes para indicar los axes y .boxplot para finalmente crear los boxplots con los datos normalizados de edad, FEV en litros y estatura. Se observa  que en la variable FEV se encuentran varios outliers que nos hablan de una gran cantidad de datos extremos, también podemos encontrar uno en la variable de edad mientras que en la de estatura no se encuentran datos fuera de lo estándar."
   ]
  },
  {
   "cell_type": "code",
   "execution_count": 22,
   "metadata": {},
   "outputs": [
    {
     "data": {
      "text/plain": [
       "array([[3.97849462e-01, 4.84072896e-01, 3.17515288e-01, 1.11022302e-15,\n",
       "        2.63677968e-16],\n",
       "       [4.17943548e-01, 5.53066788e-01, 3.88520721e-01, 1.00000000e+00,\n",
       "        2.77555756e-16],\n",
       "       [6.57692308e-01, 7.11809317e-01, 4.96973518e-01, 4.00000000e-01,\n",
       "        1.00000000e+00]])"
      ]
     },
     "execution_count": 22,
     "metadata": {},
     "output_type": "execute_result"
    }
   ],
   "source": [
    "from sklearn.cluster import KMeans\n",
    "clu = KMeans(n_clusters=3)\n",
    "clu.fit(dataf)\n",
    "clu.cluster_centers_"
   ]
  },
  {
   "cell_type": "markdown",
   "metadata": {},
   "source": [
    "Utilizamos nuestra nueva base de datos ya normalizada para pasarla por el algoritmo K-Means.\n",
    "\n",
    "Optamos por usar un valor de tres para k, con nuestra base de datos no es posible identificar los clusters ya que k-means solo se usa con base de datos no etiquetadas y nuestra base de datos sí cuenta con categorías. Así que, elegimos la k considerando que, la base de datos de “Child Smokers” es analizada con el fin de identificar la posibilidad que se tiene de tener una función pulmonar reducida. Por lo que,  el valor de k a usar fue obtenido al identificar que una forma eficiente de organizar la información para obtener conclusiones relevantes era el tener tres grupos. Estos grupos consisten de aquellos quienes tienen un riesgo bajo, los que tienen un riesgo moderado y los que tienen un riesgo alto de tener una función pulmonar reducida.\n",
    "\n",
    "Con base en los centros, se puede identificar que las variable Age (years), Height (cm) y Sex influyen en una muy alta medida en la diferenciación de los clusters ya que el valor de estas variables en cada vector dista mucho entre sí. Asimismo, la variable FEV (litres) influye en la separación de los clusters pero no en una tan alta medida como las variables anteriores ya que, pese a que los valores encontrados son diferentes de vector a vector, esta diferencia no es tan grande. Ahora bien, la variable Smoker, de igual forma, varía entre cada vector pero este cambio no es tan significativo como los anteriores. En el caso de k  = 3, dos de los vectores tienen un valor de Smoker muy similar, mientras que, el tercero no. Esto puede indicar que  tal vez los dos primeros clusters deberían ser uno solo; mas, cabe señalarse que, esto no fue indicado por el resto de las variables."
   ]
  }
 ],
 "metadata": {
  "colab": {
   "name": "A01251884_Act_DescriptivasCS.ipynb",
   "provenance": []
  },
  "kernelspec": {
   "display_name": "Python 3",
   "language": "python",
   "name": "python3"
  },
  "language_info": {
   "codemirror_mode": {
    "name": "ipython",
    "version": 3
   },
   "file_extension": ".py",
   "mimetype": "text/x-python",
   "name": "python",
   "nbconvert_exporter": "python",
   "pygments_lexer": "ipython3",
   "version": "3.8.5"
  }
 },
 "nbformat": 4,
 "nbformat_minor": 1
}
